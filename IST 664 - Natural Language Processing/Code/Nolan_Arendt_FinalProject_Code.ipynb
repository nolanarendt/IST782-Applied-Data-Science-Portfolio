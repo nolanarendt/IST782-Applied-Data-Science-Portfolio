{
 "cells": [
  {
   "cell_type": "code",
   "execution_count": 1,
   "id": "1387b329",
   "metadata": {},
   "outputs": [
    {
     "name": "stdout",
     "output_type": "stream",
     "text": [
      "/Users/ryanrichardson/Syr/NLP/FinalProject/corpus\n",
      "Number of spam files: 1500\n",
      "Number of ham files: 3671\n",
      "Total email for experiment :3000\n",
      "Example email (['Subject', ':', 'accrued', 'thru', 'nov', '.', '19', 'daren', ',', 'please', 'take', 'a', 'look', 'at', 'the', 'attached', 'spreadsheet', ',', 'we', 'have', 'over', '500', ',', '000', 'mmbtu', 'as', 'unaccounted', 'for', '.', '.', '.', 'o', \"'\", 'neal', '3', '-', '9686'], 'ham')\n"
     ]
    }
   ],
   "source": [
    "#IST664 final project\n",
    "\n",
    "import nltk\n",
    "import random\n",
    "import os\n",
    "from nltk.corpus import stopwords\n",
    "import sys\n",
    "from nltk import FreqDist\n",
    "'''\n",
    "  This program shell reads email data for the spam classification problem.\n",
    "  The input to the program is the path to the Email directory \"corpus\" and a limit number.\n",
    "  The program reads the first limit number of ham emails and the first limit number of spam.\n",
    "  It creates an \"emaildocs\" variable with a list of emails consisting of a pair\n",
    "    with the list of tokenized words from the email and the label either spam or ham.\n",
    "  It prints a one example emails.\n",
    " \n",
    "'''\n",
    "\n",
    "# define a feature definition function here\n",
    "\n",
    "\n",
    "# function to read spam and ham files, train and test a classifier \n",
    "def processspamham(file_path):\n",
    "  # convert the limit argument from a string to an int\n",
    "\n",
    "  # start lists for spam and ham email texts\n",
    "    hamtexts = []\n",
    "    spamtexts = []\n",
    "    os.chdir(file_path)\n",
    "    print(os.getcwd())\n",
    "  # process all files in directory that end in .txt up to the limit\n",
    "  #    assuming that the emails are sufficiently randomized\n",
    "    for file in os.listdir(\"./spam\"):\n",
    "        if (file.endswith(\".txt\")):\n",
    "      # open file for reading and read entire file into a string\n",
    "            f = open(\"./spam/\"+file, 'r', encoding=\"latin-1\")\n",
    "            spamtexts.append (f.read())\n",
    "            f.close()\n",
    "    for file in os.listdir(\"./ham\"):\n",
    "        if (file.endswith(\".txt\")):\n",
    "      # open file for reading and read entire file into a string\n",
    "            f = open(\"./ham/\"+file, 'r', encoding=\"latin-1\")\n",
    "            hamtexts.append (f.read())\n",
    "            f.close()\n",
    "  \n",
    "  # print number emails read\n",
    "    print (\"Number of spam files:\",len(spamtexts))\n",
    "    print (\"Number of ham files:\",len(hamtexts))\n",
    "#only take the equal value \n",
    "    if (len(spamtexts)>len(hamtexts)):\n",
    "        length_mail=len(hamtexts)\n",
    "    else:\n",
    "        length_mail=len(spamtexts)\n",
    "  # create list of mixed spam and ham email documents as (list of words, label)\n",
    "    emaildocs = []\n",
    "  # add all the spam\n",
    "    for spam in spamtexts[:length_mail]:\n",
    "        tokens = nltk.word_tokenize(spam)\n",
    "        emaildocs.append((tokens, 'spam'))\n",
    "  # add all the regular emails\n",
    "    for ham in hamtexts[:length_mail]:\n",
    "        tokens = nltk.word_tokenize(ham)\n",
    "        emaildocs.append((tokens, 'ham'))\n",
    "#check length of our data\n",
    "    print(f'Total email for experiment :{len(emaildocs)}')\n",
    "    # Set the seed value\n",
    "    \n",
    "    random.seed(123)\n",
    "    # randomize the list\n",
    "    random.shuffle(emaildocs)\n",
    "  \n",
    "  # print a few token lists\n",
    "    for email in emaildocs[:1]:\n",
    "        print (f'Example email {email}')\n",
    "    return emaildocs\n",
    "\n",
    "file_path = '/Users/ryanrichardson/Syr/NLP/FinalProject/corpus'\n",
    "emaildocs=processspamham(file_path)"
   ]
  },
  {
   "cell_type": "code",
   "execution_count": 2,
   "id": "ebde9a91",
   "metadata": {},
   "outputs": [
    {
     "name": "stdout",
     "output_type": "stream",
     "text": [
      "All words length 682966\n"
     ]
    }
   ],
   "source": [
    "#total words\n",
    "all_words = [word.lower() for email in emaildocs for word in email[0]]\n",
    "print(f'All words length {len(all_words)}')"
   ]
  },
  {
   "cell_type": "code",
   "execution_count": 3,
   "id": "38496c5f",
   "metadata": {},
   "outputs": [
    {
     "name": "stdout",
     "output_type": "stream",
     "text": [
      "['-', '.', ',', '/', ':', 'the', 'to', 'and', 'of', 'a', 'for', 'ect', '?', 'in', 'you', '@', 'this', 'subject', 'is', 'on', '=', 'i', \"'\", ')', '(', 'be', '!', 'your', 'hou', 'that', 'enron', 'with', 'we', 'from', 'have', '$', 'will', 's', 'are', 'or', 'as', 'at', ';', 'it', '3', 'not', '2000', 'com', '_', 'if']\n"
     ]
    }
   ],
   "source": [
    "#freq distribution\n",
    "Freq_Dist_words=nltk.FreqDist(all_words)\n",
    "\n",
    "# get the 2000 most frequently appearing keywords in the corpus\n",
    "word_items = Freq_Dist_words.most_common(2000)\n",
    "word_features = [word for (word, freq) in word_items]   # just the words\n",
    "print(word_features[:50])"
   ]
  },
  {
   "cell_type": "code",
   "execution_count": 4,
   "id": "6287c8b1",
   "metadata": {},
   "outputs": [],
   "source": [
    "def document_features(document, word_features):\n",
    "\tdocument_words = set(document)\n",
    "\tfeatures = {}\n",
    "\tfor word in word_features:\n",
    "\t\tfeatures['V_%s' % word] = (word in document_words)\n",
    "\treturn features"
   ]
  },
  {
   "cell_type": "code",
   "execution_count": 5,
   "id": "544aff3b",
   "metadata": {},
   "outputs": [
    {
     "name": "stdout",
     "output_type": "stream",
     "text": [
      "3000\n",
      "({'V_-': True, 'V_.': True, 'V_,': True, 'V_/': False, 'V_:': True, 'V_the': True, 'V_to': False, 'V_and': False, 'V_of': False, 'V_a': True, 'V_for': True, 'V_ect': False, 'V_?': False, 'V_in': False, 'V_you': False, 'V_@': False, 'V_this': False, 'V_subject': False, 'V_is': False, 'V_on': False, 'V_=': False, 'V_i': False, \"V_'\": True, 'V_)': False, 'V_(': False, 'V_be': False, 'V_!': False, 'V_your': False, 'V_hou': False, 'V_that': False, 'V_enron': False, 'V_with': False, 'V_we': True, 'V_from': False, 'V_have': True, 'V_$': False, 'V_will': False, 'V_s': False, 'V_are': False, 'V_or': False, 'V_as': True, 'V_at': True, 'V_;': False, 'V_it': False, 'V_3': True, 'V_not': False, 'V_2000': False, 'V_com': False, 'V__': False, 'V_if': False, 'V_by': False, 'V_please': True, 'V_``': False, 'V_1': False, 'V_2': False, 'V_00': False, 'V_our': False, 'V_me': False, 'V_%': False, 'V_|': False, 'V_all': False, 'V_gas': False, 'V_>': False, 'V_#': False, 'V_can': False, 'V_*': False, 'V_deal': False, 'V_any': False, 'V_d': False, 'V_am': False, 'V_e': False, 'V_10': False, 'V_http': False, 'V_0': False, 'V_000': True, 'V_no': False, 'V_meter': False, 'V_pm': False, 'V_an': False, 'V_4': False, 'V_has': False, 'V_hpl': False, 'V_cc': False, 'V_5': False, 'V_re': False, 'V_was': False, 'V_company': False, 'V_2001': False, 'V_new': False, 'V_t': False, 'V_may': False, 'V_thanks': False, 'V_information': False, 'V_get': False, 'V_price': False, 'V_11': False, 'V_up': False, 'V_01': False, 'V_do': False, 'V_daren': True, 'V_corp': False, 'V_more': False, 'V_here': False, 'V_need': False, 'V_7': False, 'V_know': False, 'V_us': False, 'V_only': False, 'V_out': False, 'V_these': False, 'V_my': False, 'V_www': False, 'V_should': False, 'V_&': False, 'V_time': False, 'V_there': False, 'V_email': False, 'V_12': False, 'V_but': False, 'V_6': False, 'V_one': False, 'V_been': False, 'V_m': False, 'V_see': False, 'V_message': False, 'V_l': False, 'V_99': False, 'V_p': False, 'V_8': False, 'V_9': False, 'V_they': False, 'V_would': False, 'V_now': False, 'V_mmbtu': True, 'V_j': False, 'V_into': False, 'V_so': False, 'V_let': False, 'V_forwarded': False, 'V_20': False, 'V_font': False, 'V_about': False, 'V_what': False, 'V_td': False, 'V_30': False, 'V_their': False, 'V_which': False, 'V_statements': False, 'V_15': False, 'V_+': False, 'V_th': False, 'V_day': False, 'V_farmer': False, 'V_over': True, 'V_just': False, 'V_03': False, 'V_02': False, 'V_o': True, 'V_other': False, 'V_also': False, 'V_attached': True, 'V_[': False, 'V_]': False, 'V_mail': False, 'V_its': False, 'V_x': False, 'V_b': False, 'V_nbsp': False, 'V_like': False, 'V_c': False, 'V_xls': False, 'V_some': False, 'V_month': False, 'V_contact': False, 'V_report': False, 'V_energy': False, 'V_free': False, 'V_sent': False, 'V_100': False, 'V_09': False, 'V_want': False, 'V_robert': False, 'V_05': False, 'V_r': False, 'V_change': False, 'V_25': False, 'V_contract': False, 'V_volume': False, 'V_when': False, 'V_within': False, 'V_height': False, 'V_business': False, 'V_08': False, 'V_inc': False, 'V_order': False, 'V_click': False, 'V_04': False, 'V_who': False, 'V_nom': False, 'V_today': False, 'V_deals': False, 'V_could': False, 'V_production': False, 'V_make': False, 'V_questions': False, 'V_he': False, 'V_call': False, 'V_back': False, 'V_them': False, 'V_sitara': False, 'V_stock': False, 'V_number': False, 'V_go': False, 'V_use': False, 'V_texas': False, 'V_forward': False, 'V_were': False, 'V_days': False, 'V_list': False, 'V_through': False, 'V_money': False, 'V_volumes': False, 'V_size': False, 'V_following': False, 'V_pills': False, 'V_below': False, 'V_first': False, 'V_bob': False, 'V_width': False, 'V_system': False, 'V_u': False, 'V_per': False, 'V_online': False, 'V_don': False, 'V_best': False, 'V_take': True, 'V_2004': False, 'V_how': False, 'V_investment': False, 'V_24': False, 'V_06': False, 'V_looking': False, 'V_net': False, 'V_file': False, 'V_21': False, 'V_pec': False, 'V_flow': False, 'V_available': False, 'V_well': False, 'V_60': False, 'V_07': False, 'V_50': False, 'V_products': False, 'V_31': False, 'V_effective': False, 'V_securities': False, 'V_sale': False, 'V_line': False, 'V_than': False, 'V_ticket': False, 'V_future': False, 'V_service': False, 'V_prices': False, 'V_oil': False, 'V_based': False, 'V_16': False, 'V_less': False, 'V_had': False, 'V_before': False, 'V_n': False, 'V_high': False, 'V_internet': False, 'V_market': False, 'V_product': False, 'V_713': False, 'V_office': False, 'V_original': False, 'V_many': False, 'V_28': False, 'V_being': False, 'V_after': False, 'V_14': False, 'V_next': False, 'V_daily': False, 'V_help': False, 'V_account': False, 'V_his': False, 'V_sales': False, 'V_address': False, 'V_march': False, 'V_news': False, 'V_v': False, 'V_computron': False, 'V_services': False, 'V_18': False, 'V_she': False, 'V_most': False, 'V_send': False, 'V_link': False, 'V_two': False, 'V_without': False, 'V_align': False, 'V_save': False, 'V_f': False, 'V_week': False, 'V_name': False, 'V_nomination': False, 'V_tr': False, 'V_made': False, 'V_g': False, 'V_off': False, 'V_due': False, 'V_17': False, 'V_22': False, 'V_thank': False, 'V_mary': False, 'V_last': False, 'V_23': False, 'V_year': False, 'V_info': False, 'V_work': False, 'V_h': False, 'V_such': False, 'V_software': False, 'V_windows': False, 'V_w': False, 'V_january': False, 'V_april': False, 'V_ena': False, 'V_plant': False, 'V_microsoft': False, 'V_site': False, 'V_under': False, 'V_very': False, 'V_center': False, 'V_july': False, 'V_same': False, 'V_29': False, 'V_offer': False, 'V_million': False, 'V_40': False, 'V_each': False, 'V_27': False, 'V_group': False, 'V_world': False, 'V_vance': False, 'V_said': False, 'V_above': False, 'V_does': False, 'V_gary': False, 'V_international': False, 'V_those': False, 'V_19': True, 'V_purchase': False, 'V_color': False, 'V_69': False, 'V_agreement': False, 'V_set': False, 'V_face': False, 'V_people': False, 'V_pt': False, 'V_13': False, 'V_phone': False, 'V_find': False, 'V_then': False, 'V_90': False, 'V_special': False, 'V_professional': False, 'V_border': False, 'V_companies': False, 'V_95': False, 'V_26': False, 'V_45': False, 'V_look': True, 'V_home': False, 'V_hours': False, 'V_june': False, 'V_needs': False, 'V_reply': False, 'V_nd': False, 'V_href': False, 'V_melissa': False, 'V_fax': False, \"V_''\": False, 'V_visit': False, 'V_section': False, 'V_good': False, 'V_delivery': False, 'V_because': False, 'V_teco': False, 'V_total': False, 'V_management': False, 'V_request': False, 'V_viagra': False, 'V_america': False, 'V_north': False, 'V_changes': False, 'V_receive': False, 'V_k': False, 'V_give': False, 'V_down': False, 'V_br': False, 'V_buy': False, 'V_did': False, 'V_her': False, 'V_think': False, 'V_where': False, 'V_check': False, 'V_fw': False, 'V_act': False, 'V_houston': False, 'V_process': False, 'V_performance': False, 'V_low': False, 'V_date': False, 'V_stop': False, 'V_julie': False, 'V_advice': False, 'V_tap': False, 'V_both': False, 'V_long': False, 'V_stocks': False, 'V_results': False, 'V_every': False, 'V_xp': False, 'V_remove': False, 'V_adobe': False, 'V_security': False, 'V_further': False, 'V_co': False, 'V_own': False, 'V_ami': False, 'V_120': False, 'V_ve': False, 'V_hsc': False, 'V_pat': False, 'V_even': False, 'V_ll': False, 'V_src': False, 'V_still': False, 'V_tenaska': False, 'V_much': False, 'V_right': False, 'V_great': False, 'V_susan': False, 'V_again': False, 'V_sure': False, 'V_going': False, 'V_point': False, 'V_via': False, 'V_show': False, 'V_part': False, 'V_george': False, 'V_trade': False, 'V_top': False, 'V_current': False, 'V_way': False, 'V_rate': False, 'V_63': False, 'V_smith': False, 'V_pay': False, 'V_family': False, 'V_shares': False, 'V_44': False, 'V_lisa': False, 'V_place': False, 'V_cialis': False, 'V_since': False, 'V_works': False, 'V_cotten': False, 'V_80': False, 'V_dollars': False, 'V_customers': False, 'V_megan': False, 'V_actual': False, 'V_currently': False, 'V_believe': False, 'V_friday': False, 'V_must': False, 'V_data': False, 'V_web': False, 'V_copy': False, 'V_end': False, 'V_september': False, 'V_desk': False, 'V_august': False, 'V_taylor': False, 'V_team': False, 'V_until': False, 'V_st': False, 'V_details': False, 'V_actuals': False, 'V_december': False, 'V_hi': False, 'V_2003': False, 'V_david': False, 'V_full': False, 'V_transport': False, 'V_quality': False, 'V_provide': False, 'V_500': True, 'V_including': False, 'V_mark': False, 'V_received': False, 'V_keep': False, 'V_soft': False, 'V_come': False, 'V_98': False, 'V_limited': False, 'V_michael': False, 'V_increase': False, 'V_customer': False, 'V_161': False, 'V_term': False, 'V_html': False, 'V_newsletter': False, 'V_natural': False, 'V_access': False, 'V_spot': False, 'V_prescription': False, 'V_note': False, 'V_y': False, 'V_needed': False, 'V_tickets': False, 'V_able': False, 'V_once': False, 'V_read': False, 'V_activity': False, 'V_offers': False, 'V_duke': False, 'V_financial': False, 'V_index': False, 'V_possible': False, 'V_using': False, 'V_interest': False, 'V_meds': False, 'V_cd': False, 'V_steve': False, 'V_content': False, 'V_review': False, 'V_while': False, 'V_support': False, 'V_include': False, 'V_past': False, 'V_real': False, 'V_style': False, 'V_better': False, 'V_why': False, 'V_entered': False, 'V_tom': False, 'V_fact': False, 'V_chokshi': False, 'V_technology': False, 'V_notice': False, 'V_provided': False, 'V_control': False, 'V_additional': False, 'V_iv': False, 'V_prior': False, 'V_program': False, 'V_months': False, 'V_manager': False, 'V_`': False, 'V_id': False, 'V_revised': False, 'V_october': False, 'V_fyi': False, 'V_sell': False, 'V_transaction': False, 'V_used': False, 'V_problem': False, 'V_thru': True, 'V_life': False, 'V_start': False, 'V_feb': False, 'V_shipping': False, 'V_global': False, 'V_noms': False, 'V_unify': False, 'V_feel': False, 'V_numbers': False, 'V_position': False, 'V_party': False, 'V_continue': False, 'V_eastrans': False, 'V_issue': False, 'V_jackie': False, 'V_regarding': False, 'V_resources': False, 'V_paliourg': False, 'V_paid': False, 'V_de': False, 'V_create': False, 'V_32': False, 'V_soon': False, 'V_events': False, 'V_jan': False, 'V_investing': False, 'V_john': False, 'V_corporation': False, 'V_three': False, 'V_cost': False, 'V_monday': False, 'V_risk': False, 'V_development': False, 'V_regards': False, 'V_another': False, 'V_aimee': False, 'V_put': False, 'V_ms': False, 'V_always': False, 'V_\\x01': False, 'V_counterparty': False, 'V_move': False, 'V_power': False, 'V_got': False, 'V_february': False, 'V_meters': False, 'V_dec': False, 'V_tu': False, 'V_created': False, 'V_young': False, 'V_fuel': False, 'V_project': False, 'V_fee': False, 'V_voip': False, 'V_never': False, 'V_demand': False, 'V_brian': False, 'V_pipeline': False, 'V_hplc': False, 'V_pro': False, 'V_november': False, 'V_thursday': False, 'V_him': False, 'V_industry': False, 'V_zone': False, 'V_update': False, 'V_someone': False, 'V_type': False, 'V_easy': False, 'V_field': False, 'V_clynes': False, 'V_estimates': False, 'V_supply': False, 'V_35': False, 'V_strong': False, 'V_meyers': False, 'V_graves': False, 'V_oo': False, 'V_mg': False, 'V_php': False, 'V_server': False, 'V_james': False, 'V_registered': False, 'V_wish': False, 'V_health': False, 'V_trading': False, 'V_marketing': False, 'V_contracts': False, 'V_done': False, 'V_little': False, 'V_follow': False, 'V_bgcolor': False, 'V_city': False, 'V_however': False, 'V_page': False, 'V_cash': False, 'V_36': False, 'V_direct': False, 'V_watch': False, 'V_drugs': False, 'V_wellhead': False, 'V_during': False, 'V_either': False, 'V_exchange': False, 'V_terms': False, 'V_china': False, 'V_rates': False, 'V_unsubscribe': False, 'V_try': False, 'V_few': False, 'V_website': False, 'V_pg': False, 'V_lee': False, 'V_private': False, 'V_loss': False, 'V_area': False, 'V_old': False, 'V_2005': False, 'V_mobile': False, 'V_states': False, 'V_add': False, 'V_tuesday': False, 'V_form': False, 'V_error': False, 'V_issues': False, 'V_ls': False, 'V_expectations': False, 'V_getting': False, 'V_years': False, 'V_united': False, 'V_anything': False, 'V_download': False, 'V_transfer': False, 'V_removed': False, 'V_pain': False, 'V_tx': False, 'V_suite': False, 'V_cause': False, 'V_third': False, 'V_material': False, 'V_na': False, 'V_love': False, 'V_major': False, 'V_ever': False, 'V_storage': False, 'V_required': False, 'V_55': False, 'V_scheduled': False, 'V_complete': False, 'V_big': False, 'V_might': False, 'V_between': False, 'V_retail': False, 'V_utilities': False, 'V_personal': False, 'V_lloyd': False, 'V_already': False, 'V_text': False, 'V_risks': False, 'V_computer': False, 'V_view': False, 'V_txu': False, 'V_gif': False, 'V_rita': False, 'V_hanks': False, 'V_drive': False, 'V_bank': False, 'V_letter': False, 'V_worldwide': False, 'V_release': False, 'V_second': False, 'V_canada': False, 'V_tabs': False, 'V_48': False, 'V_biz': False, 'V_working': False, 'V_operations': False, 'V_action': False, 'V_operating': False, 'V_pricing': False, 'V_im': False, 'V_country': False, 'V_cs': False, 'V_case': False, 'V_credit': False, 'V_called': False, 'V_growth': False, 'V_man': False, 'V_too': False, 'V_box': False, 'V_mr': False, 'V_duty': False, 'V_spam': False, 'V_image': False, 'V_person': False, 'V_ali': False, 'V_enter': False, 'V_\\\\': False, 'V_publisher': False, 'V_orders': False, 'V_commercial': False, 'V_yourself': False, 'V_reason': False, 'V_confirm': False, 'V_howard': False, 'V_state': False, 'V_weight': False, 'V_potential': False, 'V_remember': False, 'V_971': False, 'V_browser': False, 'V_small': False, 'V_hope': False, 'V_iferc': False, 'V_differ': False, 'V_meeting': False, 'V_press': False, 'V_70': False, 'V_period': False, 'V_sat': False, 'V_application': False, 'V_jones': False, 'V_firm': False, 'V_yet': False, 'V_left': False, 'V_source': False, 'V_technologies': False, 'V_correct': False, 'V_everyone': False, 'V_around': False, 'V_department': False, 'V_wynne': False, 'V_important': False, 'V_200': False, 'V_morning': False, 'V_charge': False, 'V_amount': False, 'V_latest': False, 'V_necessary': False, 'V_kind': False, 'V_super': False, 'V_ces': False, 'V_payment': False, 'V_expected': False, 'V_middle': False, 'V_survey': False, 'V_katy': False, 'V_spreadsheet': True, 'V_south': False, 'V_late': False, 'V_times': False, 'V_intended': False, 'V_compliance': False, 'V_open': False, 'V_public': False, 'V_thought': False, 'V_mike': False, 'V_124': False, 'V_mx': False, 'V_really': False, 'V_federal': False, 'V_body': False, 'V_300': False, 'V_anyone': False, 'V_target': False, 'V_expect': False, 'V_deliveries': False, 'V_pefs': False, 'V_interested': False, 'V_nominations': False, 'V_photoshop': False, 'V_wednesday': False, 'V_nothing': False, 'V_cheap': False, 'V_52': False, 'V_brand': False, 'V_img': False, 'V_table': False, 'V_enronxgate': False, 'V_39': False, 'V_hplno': False, 'V_something': False, 'V_lose': False, 'V_meet': False, 'V_stack': False, 'V_employees': False, 'V_plans': False, 'V_paste': False, 'V_85': False, 'V_valign': False, 'V_al': False, 'V_uncertainties': False, 'V_found': False, 'V_accounting': False, 'V_fill': False, 'V_large': False, 'V_network': False, 'V_users': False, 'V_certain': False, 'V_men': False, 'V_sex': False, 'V_allocation': False, 'V_quick': False, 'V_camp': False, 'V_say': False, 'V_everything': False, 'V_exploration': False, 'V_systems': False, 'V_hard': False, 'V_~': False, 'V_considered': False, 'V_write': False, 'V_sun': False, 'V_coastal': False, 'V_zero': False, 'V_beaumont': False, 'V_investors': False, 'V_agree': False, 'V_jpg': False, 'V_gathering': False, 'V_meaning': False, 'V_publication': False, 'V_doc': False, 'V_sources': False, 'V_gco': False, 'V_000000': False, 'V_weeks': False, 'V_plan': False, 'V_features': False, 'V_usa': False, 'V_katherine': False, 'V_version': False, 'V_location': False, 'V_updated': False, 'V_div': False, 'V_secure': False, 'V_bill': False, 'V_weissman': False, 'V_moopid': False, 'V_hotlist': False, 'V_subscribers': False, 'V_featured': False, 'V_capital': False, 'V_hello': False, 'V_solution': False, 'V_75': False, 'V_fund': False, 'V_generic': False, 'V_things': False, 'V_run': False, 'V_away': False, 'V_property': False, 'V_advise': False, 'V_darren': False, 'V_longer': False, 'V_user': False, 'V_hplo': False, 'V_lannou': False, 'V_parker': False, 'V_beginning': False, 'V_pharmacy': False, 'V_54': False, 'V_38': False, 'V_involve': False, 'V_ready': False, 'V_medical': False, 'V_offering': False, 'V_several': False, 'V_having': False, 'V_sherlyn': False, 'V_thing': False, 'V_given': False, 'V_dear': False, 'V_epson': False, 'V_format': False, 'V_code': False, 'V_vlt': False, 'V_safe': False, 'V_music': False, 'V_projections': False, 'V_impact': False, 'V_cut': False, 'V_pc': False, 'V_calls': False, 'V_recent': False, 'V_56': False, 'V_side': False, 'V_approved': False, 'V_fast': False, 'V_tel': False, 'V_availability': False, 'V_title': False, 'V_images': False, 'V_lst': False, 'V_33': False, 'V_problems': False, 'V_ic': False, 'V_words': False, 'V_hot': False, 'V_approval': False, 'V_legal': False, 'V_logistics': False, 'V_weekend': False, 'V_calpine': False, 'V_director': False, 'V_fuels': False, 'V_path': False, 'V_aware': False, 'V_47': False, 'V_options': False, 'V_ask': False, 'V_gr': False, 'V_htmlimg': False, 'V_xanax': False, 'V_shows': False, 'V_shut': False, 'V_book': False, 'V_completed': False, 'V_·': False, 'V_imbalance': False, 'V_gcs': False, 'V_cec': False, 'V_different': False, 'V_close': False, 'V_immediately': False, 'V_plus': False, 'V_ability': False, 'V_800': False, 'V_says': False, 'V_donald': False, 'V_producer': False, 'V_clem': False, 'V_express': False, 'V_profile': False, 'V_president': False, 'V_shall': False, 'V_taking': False, 'V_valley': False, 'V_wanted': False, 'V_final': False, 'V_begin': False, 'V_buyback': False, 'V_colspan': False, 'V_wide': False, 'V_corel': False, 'V_portfolio': False, 'V_readers': False, 'V_facility': False, 'V_tell': False, 'V_voice': False, 'V_thousand': False, 'V_delta': False, 'V_entex': False, 'V_macromedia': False, 'V_care': False, 'V_clear': False, 'V_four': False, 'V_dell': False, 'V_acton': False, 'V_carlos': False, 'V_wi': False, 'V_lsk': False, 'V_channel': False, 'V_listed': False, 'V_ltd': False, 'V_49': False, 'V_methanol': False, 'V_requirements': False, 'V_factors': False, 'V_valid': False, 'V_level': False, 'V_become': False, 'V_dealer': False, 'V_edition': False, 'V_short': False, 'V_invoice': False, 'V_projects': False, 'V_central': False, 'V_valium': False, 'V_basis': False, 'V_sept': False, 'V_added': False, 'V_upon': False, 'V_tax': False, 'V_prize': False, 'V_fred': False, 'V_else': False, 'V_approximately': False, 'V_knle': False, 'V_doctor': False, 'V_experience': False, 'V_allen': False, 'V_national': False, 'V_34': False, 'V_related': False, 'V_learn': False, 'V_included': False, 'V_pops': False, 'V_attention': False, 'V_allocated': False, 'V_instant': False, 'V_rolex': False, 'V_tomorrow': False, 'V_night': False, 'V_therefore': False, 'V_perfect': False, 'V_intel': False, 'V_instructions': False, 'V_exactly': False, 'V_reinhardt': False, 'V_donna': False, 'V_iit': False, 'V_demokritos': False, 'V_value': False, 'V_2002': False, 'V_none': False, 'V_thu': False, 'V_relief': False, 'V_cover': False, 'V_card': False, 'V_cotton': False, 'V_directly': False, 'V_god': False, 'V_1999': False, 'V_hey': False, 'V_el': False, 'V_share': False, 'V_schedule': False, 'V_105': False, 'V_42': False, 'V_changed': False, 'V_6353': False, 'V_talk': False, 'V_dy': False, 'V_mentioned': False, 'V_london': False, 'V_assistance': False, 'V_requested': False, 'V_half': False, 'V_financing': False, 'V_friends': False, 'V_65': False, 'V_confirmed': False, 'V_q': False, 'V_discount': False, 'V_opportunity': False, 'V_key': False, 'V_rd': False, 'V_medications': False, 'V_addition': False, 'V_contains': False, 'V_ship': False, 'V_video': False, 'V_later': False, 'V_victor': False, 'V_response': False, 'V_physical': False, 'V_mid': False, 'V_others': False, 'V_includes': False, 'V_investor': False, 'V_richard': False, 'V_head': False, 'V_bring': False, 'V_reference': False, 'V_carthage': False, 'V_cornhusker': False, 'V_happy': False, 'V_items': False, 'V_swing': False, 'V_etc': False, 'V_59': False, 'V_choose': False, 'V_general': False, 'V_making': False, 'V_ibm': False, 'V_allow': False, 'V_reserves': False, 'V_yahoo': False, 'V_guarantee': False, 'V_extended': False, 'V_simply': False, 'V_huge': False, 'V_play': False, 'V_monthly': False, 'V_handle': False, 'V_doing': False, 'V_mind': False, 'V_fixed': False, 'V_stone': False, 'V_verify': False, 'V_speculative': False, 'V_1933': False, 'V_identified': False, 'V_option': False, 'V_women': False, 'V_history': False, 'V_stella': False, 'V_aep': False, 'V_matter': False, 'V_media': False, 'V_gold': False, 'V_rnd': False, 'V_representative': False, 'V_ex': False, 'V_selected': False, 'V_plain': False, 'V_passed': False, 'V_shown': False, 'V_cheryl': False, 'V_revision': False, 'V_hplnl': False, 'V_taken': False, 'V_known': False, 'V_respect': False, 'V_notes': False, 'V_37': False, 'V_htm': False, 'V_purchases': False, 'V_ranch': False, 'V_star': False, 'V_58': False, 'V_effort': False, 'V_receipt': False, 'V_government': False, 'V_poorman': False, 'V_rx': False, 'V_answer': False, 'V_ken': False, 'V_eol': False, 'V_digital': False, 'V_coming': False, 'V_jebel': False, 'V_101': False, 'V_told': False, 'V_together': False, 'V_increased': False, 'V_aol': False, 'V_girls': False, 'V_return': False, 'V_equistar': False, 'V_scott': False, 'V_near': False, 'V_redeliveries': False, 'V_distribution': False, 'V_jennifer': False, 'V_savings': False, 'V_penis': False, 'V_creative': False, 'V_lots': False, 'V_paragraph': False, 'V_hear': False, 'V_believes': False, 'V_occur': False, 'V_confirmation': False, 'V_status': False, 'V_345': False, 'V_thomas': False, 'V_took': False, 'V_sold': False, 'V_won': False, 'V_la': False, 'V_dvd': False, 'V_reports': False, 'V_priced': False, 'V_schumack': False, 'V_feedback': False, 'V_cf': False, 'V_turn': False, 'V_sign': False, 'V_bridge': False, 'V_extend': False, 'V_charlie': False, 'V_probably': False, 'V_anticipated': False, 'V_delivered': False, 'V_non': False, 'V_base': False, 'V_partners': False, 'V_ray': False, 'V_referenced': False, 'V_select': False, 'V_live': False, 'V_officer': False, 'V_sorry': False, 'V_password': False, 'V_partner': False, 'V_stacey': False, 'V_sec': False, 'V_albrecht': False, 'V_usb': False, 'V_neal': True, 'V_alt': False, 'V_claim': False, 'V_though': False, 'V_listing': False, 'V_iii': False, 'V_}': False, 'V_question': False, 'V_cynthia': False, 'V_baumbach': False, 'V_rodriguez': False, 'V_travel': False, 'V_assist': False, 'V_shipped': False, 'V_five': False, 'V_air': False, 'V_lp': False, 'V_union': False, 'V_agent': False, 'V_tess': False, 'V_active': False, 'V_normally': False, 'V_cds': False, 'V_½': False, 'V_oi': False, 'V_popular': False, 'V_door': False, 'V_waiting': False, 'V_enough': False, 'V_wireless': False, 'V_suggestions': False, 'V_discussions': False, 'V_hesse': False, 'V_against': False, 'V_draw': False, 'V_existing': False, 'V_expects': False, 'V_ooking': False, 'V_seek': False, 'V_inherent': False, 'V_costs': False, 'V_estimate': False, 'V_853': False, 'V_700': False, 'V_follows': False, 'V_research': False, 'V_takes': False, 'V_wants': False, 'V_devon': False, 'V_vacation': False, 'V_enjoy': False, 'V_ca': False, 'V_communication': False, 'V_game': False, 'V_east': False, 'V_fun': False, 'V_assumptions': False, 'V_records': False, 'V_purchased': False, 'V_liz': False, 'V_advantage': False, 'V_messages': False, 'V_scheduling': False, 'V_coupon': False, 'V_processing': False, 'V_morris': False, 'V_darial': False, 'V_wife': False, 'V_gra': False, 'V_american': False, 'V_canon': False, 'V_respective': False, 'V_unique': False, 'V_solutions': False, 'V_nominated': False, 'V_white': False, 'V_local': False, 'V_revenue': False, 'V_conflict': False, 'V_similar': False, 'V_outage': False, 'V_reduce': False, 'V_ago': False, 'V_bad': False, 'V_excess': False, 'V_exclusive': False, 'V_markets': False, 'V_track': False, 'V_dr': False, 'V_enrononline': False, 'V_yap': False, 'V_0310041': False, 'V_z': False, 'V_charlotte': False, 'V_specific': False, 'V_export': False, 'V_owners': False, 'V_reach': False, 'V_57': False, 'V_starting': False, 'V_success': False, 'V_1934': False, 'V_common': False, 'V_sexual': False, 'V_minutes': False, 'V_age': False, 'V_alert': False, 'V_presently': False, 'V_guys': False, 'V_mailto': False, 'V_members': False, 'V_jim': False, 'V_store': False, 'V_industrial': False, 'V_broadband': False, 'V_unit': False, 'V_land': False, 'V_±': False, 'V_informed': False, 'V_flash': False, 'V_category': False, 'V_class': False, 'V_ok': False, 'V_clearance': False, 'V_sony': False, 'V_quickly': False, 'V_lauri': False, 'V_result': False, 'V_objectives': False, 'V_statement': False, 'V_advised': False, 'V_advisor': False, 'V_staff': False, 'V_gpgfin': False, 'V_papayoti': False, 'V_receiving': False, 'V_connection': False, 'V_early': False, 'V_wells': False, 'V_expense': False, 'V_understanding': False, 'V_training': False, 'V_worth': False, 'V_course': False, 'V_pill': False, 'V_affiliate': False, 'V_businesses': False, 'V_jeff': False, 'V_ed': False, 'V_limit': False, 'V_quarter': False, 'V_held': False, 'V_profit': False, 'V_solicitation': False, 'V_opinion': False, 'V_fri': False, 'V_281': False, 'V_en': False, 'V_shop': False, 'V_highly': False, 'V_830': False, 'V_confidential': False, 'V_balance': False, 'V_fat': False, 'V_properties': False, 'V_basin': False, 'V_outstanding': False, 'V_0424040': False, 'V_ftar': False, 'V_petroleum': False, 'V_story': False, 'V_house': False, 'V_green': False, 'V_test': False, 'V_bit': False, 'V_toshiba': False, 'V_somehow': False, 'V_logos': False, 'V_comes': False, 'V_250': False, 'V_showing': False, 'V_riley': False, 'V_entire': False, 'V_herein': False, 'V_purpose': False, 'V_member': False, 'V_emails': False, 'V_billion': False, 'V_dfarmer': False, 'V_facts': False, 'V_claims': False, 'V_hall': False, 'V_didn': False, 'V_citibank': False, 'V_opportunities': False, 'V_gb': False, 'V_titles': False, 'V_friend': False, 'V_represent': False, 'V_ensure': False, 'V_ordering': False, 'V_range': False, 'V_compaq': False, 'V_gotten': False, 'V_trademarks': False, 'V_bryan': False, 'V_cable': False, 'V_enterprise': False, 'V_normal': False, 'V_announced': False, 'V_acquisition': False, 'V_various': False, 'V_asked': False, 'V_ct': False, 'V_beverly': False, 'V_^': False, 'V_light': False, 'V_edward': False, 'V_aepin': False, 'V_lower': False, 'V_europe': False, 'V_51': False, 'V_doesn': False, 'V_went': False, 'V_tetco': False, 'V_immediate': False, 'V_expired': False, 'V_°': False, 'V_front': False, 'V_points': False, 'V_lowest': False, 'V_sincerely': False, 'V_whole': False, 'V_viewsonic': False, 'V_resellers': False, 'V_congress': False, 'V_soma': False, 'V_{': False, 'V_provides': False, 'V_additionally': False, 'V_match': False, 'V_53': False, 'V_rm': False, 'V_symbol': False, 'V_yes': False, 'V_revenues': False, 'V_greater': False, 'V_broker': False, 'V_conditions': False, 'V_database': False, 'V_leave': False, 'V_vicodin': False, 'V_bellamy': False, 'V_43': False, 'V_lot': False, 'V_rest': False, 'V_print': False, 'V_materially': False, 'V_moved': False, 'V_acceptance': False, 'V_mobil': False, 'V_step': False, 'V_hub': False, 'V_eric': False, 'V_afternoon': False, 'V_saturday': False, 'V_looks': False, 'V_fontfont': False, 'V_chance': False, 'V_california': False, 'V_pick': False, 'V_expenses': False, 'V_leader': False, 'V_multiple': False, 'V_robotics': False, 'V_complaints': False, 'V_1618': False, 'V_lsp': False, 'V_cellpadding': False, 'V_word': False, 'V_ceo': False, 'V_karen': False, 'V_foreign': False, 'V_ua': False, 'V_149': False, 'V_mcf': False, 'V_pre': False, 'V_tried': False, 'V_accuracy': False, 'V_goals': False, 'V_41': False, 'V_ext': False, 'V_cleburne': False, 'V_mailing': False, 'V_hour': False, 'V_sunday': False, 'V_098': False, 'V_mccoy': False, 'V_cell': False, 'V_nov': True, 'V_goes': False, 'V_positive': False, 'V_wait': False, 'V_licensed': False, 'V_speed': False, 'V_dealers': False, 'V_hewlett': False, 'V_8834464': False, 'V_8834454': False, 'V_legislation': False, 'V_4176': False, 'V_flowed': False, 'V_cernosek': False, 'V_join': False, 'V_materia': False, 'V_dave': False, 'V_minute': False, 'V_black': False, 'V_anita': False, 'V_resulting': False, 'V_running': False, 'V_guaranteed': False, 'V_placed': False, 'V_contents': False, 'V_car': False, 'V_average': False, 'V_transactions': False, 'V_employee': False, 'V_nguyen': False, 'V_dow': False, 'V_1226030': False, 'V_finally': False, 'V_advanced': False, 'V_applications': False, 'V_enquiries': False, 'V_packard': False, 'V_iomega': False, 'V_aopen': False, 'V_apc': False, 'V_cisco': False, 'V_intellinet': False, 'V_targus': False, 'V_customerservice': False, 'V_standard': False, 'V_enserch': False, 'V_yesterday': False, 'V_janet': False, 'V_red': False, 'V_se': False, 'V_cap': False, 'V_names': False, 'V_indicating': False, 'V_understood': False, 'V_overnight': False, 'V_0435': False, 'V_started': False, 'V_search': False, 'V_providing': False, 'V_came': False, 'V_spoke': False, 'V_sum': False, 'V_promotions': False, 'V_nomad': False, 'V_window': False, 'V_pass': False, 'V_lamadrid': False, 'V_road': False, 'V_invest': False, 'V_higher': False, 'V_oasis': False, 'V_initial': False, 'V_record': False, 'V_midcon': False, 'V_nor': False, 'V_92': False, 'V_thousands': False, 'V_document': False, 'V_programs': False, 'V_uae': False, 'V_hesco': False, 'V_event': False, 'V_almost': False, 'V_construed': False, 'V_est': False, 'V_46': False, 'V_bought': False, 'V_individual': False, 'V_art': False, 'V_heard': False, 'V_stay': False, 'V_avoid': False, 'V_appreciate': False, 'V_lone': False, 'V_board': False, 'V_contained': False, 'V_lottery': False, 'V_funds': False, 'V_telephone': False, 'V_seen': False, 'V_button': False, 'V_drug': False, 'V_spring': False, 'V_documents': False, 'V_couple': False, 'V_exception': False, 'V_reflect': False, 'V_focus': False, 'V_assets': False, 'V_tejas': False, 'V_valero': False, 'V_whether': False, 'V_specials': False, 'V_met': False, 'V_agreed': False, 'V_bottom': False, 'V_corporate': False, 'V_benefit': False, 'V_require': False, 'V_concern': False, 'V_johnson': False, 'V_jo': False, 'V_children': False, 'V_predictions': False, 'V_actions': False, 'V_pertaining': False, 'V_outages': False, 'V_holding': False, 'V_six': False, 'V_load': False, 'V_percent': False, 'V_model': False, 'V_otc': False, 'V_78': False, 'V_discuss': False, 'V_sandi': False, 'V_bruce': False, 'V_dollar': False, 'V_along': False, 'V_brenda': False, 'V_recently': False, 'V_filings': False, 'V_waha': False, 'V_pipe': False, 'V_room': False, 'V_4179': False, 'V_mb': False, 'V_positions': False, 'V_itoy': False, 'V_oct': False, 'V_paso': False, 'V_extra': False, 'V_inform': False, 'V_97': False, 'V_port': False, 'V_zonedubai': False, 'V_emirates': False, 'V_aeor': False, 'V_build': False, 'V_svcs': False, 'V_walker': False, 'V_earl': False, 'V_sports': False, 'V_leading': False, 'V_anticipates': False, 'V_deciding': False, 'V_muscle': False, 'V_anti': False, 'V_according': False, 'V_job': False, 'V_diligence': False, 'V_roll': False, 'V_european': False, 'V_involved': False, 'V_father': False, 'V_simple': False, 'V_apr': False, 'V_shell': False, 'V_waste': False, 'V_leth': False, 'V_charset': False, 'V_maintenance': False, 'V_appear': False, 'V_aug': False, 'V_gift': False, 'V_oem': False, 'V_treatment': False, 'V_amazon': False, 'V_designed': False, 'V_lamphier': False, 'V_rock': False, 'V_norton': False, 'V_doctors': False, 'V_ees': False, 'V_accounts': False, 'V_trying': False, 'V_finance': False, 'V_assurance': False, 'V_boas': False, 'V_solid': False, 'V_william': False, 'V_king': False, 'V_wilson': False, 'V_generation': False, 'V_located': False, 'V_affordable': False, 'V_enerfin': False, 'V_school': False, 'V_activities': False, 'V_settlements': False, 'V_otcbb': False, 'V_dynegy': False, 'V_equity': False, 'V_usd': False, 'V_min': False, 'V_ce': False, 'V_manual': False, 'V_submit': False, 'V_understand': False, 'V_holmes': False, 'V_reveffo': False, 'V_superty': False, 'V_female': False, 'V_ei': False, 'V_communications': False, 'V_internationa': False, 'V_historical': False, 'V_resuits': False, 'V_understands': False, 'V_estimated': False, 'V_trader': False, 'V_229': False, 'V_post': False, 'V_inside': False, 'V_strategy': False, 'V_shareholder': False, 'V_withers': False, 'V_grow': False, 'V_websites': False, 'V_selling': False, 'V_elizabeth': False, 'V_compensation': False, 'V_apply': False, 'V_difference': False, 'V_internal': False, 'V_lost': False, 'V_parties': False, 'V_appropriate': False, 'V_paying': False, 'V_purposes': False, 'V_gtc': False, 'V_reliable': False, 'V_dial': False, 'V_decided': False, 'V_koch': False, 'V_husband': False, 'V_medication': False, 'V_explode': False, 'V_efforts': False, 'V_privacy': False, 'V_tracked': False, 'V_movies': False, 'V_studio': False, 'V_owner': False, 'V_annual': False, 'V_lead': False, 'V_sites': False, 'V_crosstex': False, 'V_rights': False, 'V_competitive': False, 'V_bankruptcy': False, 'V_hundred': False, 'V_remain': False, 'V_spain': False, 'V_belize': False, 'V_acts': False, 'V_yours': False, 'V_assigned': False, 'V_notify': False, 'V_mix': False, 'V_deliver': False, 'V_hold': False, 'V_cdnow': False, 'V_matt': False, 'V_pathed': False, 'V_mar': False, 'V_kcs': False, 'V_senior': False, 'V_blank': False, 'V_heart': False, 'V_400': False, 'V_investments': False, 'V_vi': False, 'V_tina': False, 'V_illustrator': False, 'V_premium': False, 'V_palestinian': False, 'V_among': False, 'V_verdana': False, 'V_arial': False, 'V_registration': False, 'V_tools': False, 'V_avila': False, 'V_jill': False, 'V_true': False, 'V_least': False, 'V_laptop': False, 'V_graphics': False, 'V_un': False, 'V_proven': False, 'V_entertainment': False, 'V_foresee': False, 'V_accept': False, 'V_welcome': False, 'V_previous': False, 'V_booked': False, 'V_flowing': False, 'V_600': False, 'V_timing': False, 'V_package': False, 'V_68': False, 'V_kim': False, 'V_hill': False, 'V_monitor': False, 'V_cowboy': False, 'V_transportation': False, 'V_usage': False, 'V_mining': False, 'V_evergreen': False, 'V_russ': False, 'V_aerofoam': False, 'V_forever': False, 'V_fine': False, 'V_description': False, 'V_africa': False, 'V_reliantenergy': False, 'V_hakemack': False, 'V_remaining': False, 'V_tisdale': False, 'V_tv': False, 'V_apple': False, 'V_idea': False, 'V_acquire': False, 'V_advises': False, 'V_mailings': False, 'V_clickathome': False, 'V_equipment': False, 'V_ebs': False, 'V_pager': False, 'V_quit': False, 'V_multi': False, 'V_availabilities': False, 'V_luong': False, 'V_gain': False, 'V_96': False, 'V_louisiana': False, 'V_quote': False, 'V_pleased': False, 'V_erections': False, 'V_far': False, 'V_means': False, 'V_releases': False, 'V_exxon': False, 'V_analysis': False, 'V_stuff': False, 'V_external': False, 'V_sofftwaares': False, 'V_participate': False, 'V_³': False, 'V_eogi': False, 'V_wysak': False, 'V_abdv': False, 'V_unaccounted': True, 'V_street': False, 'V_column': False, 'V_ad': False, 'V_deposit': False, 'V_kenneth': False, 'V_edit': False, 'V_design': False, 'V_powerful': False, 'V_actually': False, 'V_llc': False, 'V_committed': False, 'V_wiil': False, 'V_intent': False, 'V_249': False, 'V_89': False, 'V_ref': False, 'V_competition': False, 'V_adult': False, 'V_sea': False, 'V_morgan': False, 'V_und': False, 'V_force': False, 'V_unlimited': False, 'V_protocol': False, 'V_penny': False, 'V_files': False, 'V_pubiisher': False, 'V_750': False, 'V_present': False, 'V_diamond': False, 'V_mitchell': False, 'V_pinion': False, 'V_kimberly': False, 'V_engage': False, 'V_gains': False, 'V_mm': False, 'V_tammy': False, 'V_situation': False, 'V_invoices': False, 'V_military': False, 'V_easttexas': False, 'V_brazos': False, 'V_premiere': False, 'V_across': False, 'V_apache': False, 'V_operation': False, 'V_atleast': False, 'V_anywhere': False, 'V_eileen': False, 'V_wed': False, 'V_saw': False, 'V_herrera': False, 'V_cellspacing': False, 'V_ffffff': False, 'V_environment': False, 'V_hottlist': False, 'V_fl': False, 'V_fully': False, 'V_earlier': False, 'V_eye': False, 'V_rom': False, 'V_phentermine': False, 'V_automatically': False, 'V_purchasing': False, 'V_dosage': False}, 'ham')\n"
     ]
    }
   ],
   "source": [
    "# get features sets for a document, including keyword features and category feature\n",
    "featuresets = [(document_features(d, word_features), c) for (d,c) in emaildocs]\n",
    "# the feature sets are 3000 words long\n",
    "print(len(featuresets))\n",
    "#look feturesets\n",
    "print(featuresets[0])\n"
   ]
  },
  {
   "cell_type": "code",
   "execution_count": 6,
   "id": "d2fd2fce",
   "metadata": {},
   "outputs": [],
   "source": [
    "# training using naive Baysian classifier with a 90/10 split\n",
    "train_set, test_set = featuresets[300:], featuresets[:300]\n",
    "classifier = nltk.NaiveBayesClassifier.train(train_set)"
   ]
  },
  {
   "cell_type": "code",
   "execution_count": 187,
   "id": "8e1acece",
   "metadata": {},
   "outputs": [
    {
     "name": "stdout",
     "output_type": "stream",
     "text": [
      "Accuracy:0.968\n"
     ]
    }
   ],
   "source": [
    "# evaluate the accuracy of the classifier\n",
    "print (f'Accuracy:{nltk.classify.accuracy(classifier, test_set)}')\n",
    "# the accuracy result may vary since we randomized the documents"
   ]
  },
  {
   "cell_type": "code",
   "execution_count": 7,
   "id": "e76ff245",
   "metadata": {},
   "outputs": [
    {
     "name": "stdout",
     "output_type": "stream",
     "text": [
      "Most Informative Features\n",
      "             V_forwarded = True              ham : spam   =    223.6 : 1.0\n",
      "                   V_hou = True              ham : spam   =    206.7 : 1.0\n",
      "                   V_nom = True              ham : spam   =    130.9 : 1.0\n",
      "                   V_ect = True              ham : spam   =    129.1 : 1.0\n",
      "                  V_2001 = True              ham : spam   =     82.1 : 1.0\n",
      "            V_nomination = True              ham : spam   =     78.0 : 1.0\n",
      "                   V_bob = True              ham : spam   =     57.4 : 1.0\n",
      "          V_prescription = True             spam : ham    =     56.8 : 1.0\n",
      "                V_farmer = True              ham : spam   =     50.6 : 1.0\n",
      "                  V_lisa = True              ham : spam   =     47.3 : 1.0\n",
      "                 V_susan = True              ham : spam   =     47.3 : 1.0\n",
      "                  V_2005 = True             spam : ham    =     45.3 : 1.0\n",
      "                    V_cc = True              ham : spam   =     43.8 : 1.0\n",
      "                   V_713 = True              ham : spam   =     42.9 : 1.0\n",
      "                 V_steve = True              ham : spam   =     42.1 : 1.0\n",
      "                  V_duke = True              ham : spam   =     40.2 : 1.0\n",
      "                   V_tap = True              ham : spam   =     38.2 : 1.0\n",
      "                V_meyers = True              ham : spam   =     37.5 : 1.0\n",
      "            V_deliveries = True              ham : spam   =     36.9 : 1.0\n",
      "                 V_plain = True             spam : ham    =     36.4 : 1.0\n",
      "                   V_sex = True             spam : ham    =     36.4 : 1.0\n",
      "                V_meters = True              ham : spam   =     36.2 : 1.0\n",
      "             V_guarantee = True             spam : ham    =     33.0 : 1.0\n",
      "              V_featured = True             spam : ham    =     32.3 : 1.0\n",
      "             V_investing = True             spam : ham    =     32.3 : 1.0\n",
      "                   V_men = True             spam : ham    =     32.3 : 1.0\n",
      "                V_howard = True              ham : spam   =     32.3 : 1.0\n",
      "                 V_fuels = True              ham : spam   =     31.7 : 1.0\n",
      "                 V_unify = True              ham : spam   =     31.7 : 1.0\n",
      "                   V_vlt = True              ham : spam   =     31.7 : 1.0\n",
      "None\n"
     ]
    }
   ],
   "source": [
    "# show which features of classifier are most informative\n",
    "print(classifier.show_most_informative_features(30))"
   ]
  },
  {
   "cell_type": "code",
   "execution_count": 8,
   "id": "0abb1612",
   "metadata": {},
   "outputs": [],
   "source": [
    "#method of cross validation\n",
    "## cross-validation ##\n",
    "# this function takes the number of folds, the feature sets\n",
    "# it iterates over the folds, using different sections for training and testing in turn\n",
    "#   it prints the accuracy for each fold and the average accuracy at the end\n",
    "def cross_validation_accuracy(num_folds, featuresets):\n",
    "    subset_size = int(len(featuresets)/num_folds)\n",
    "    print('Each fold size:', subset_size)\n",
    "    accuracy_list = []\n",
    "    goldlist = []\n",
    "    predictedlist = []\n",
    "    # iterate over the folds\n",
    "    for i in range(num_folds):\n",
    "        test_this_round = featuresets[(i*subset_size):][:subset_size]\n",
    "        train_this_round = featuresets[:(i*subset_size)] + featuresets[((i+1)*subset_size):]\n",
    "        # train using train_this_round\n",
    "        classifier = nltk.NaiveBayesClassifier.train(train_this_round)\n",
    "        # evaluate against test_this_round and save accuracy\n",
    "        accuracy_this_round = nltk.classify.accuracy(classifier, test_this_round)\n",
    "#for Evaluation measures: precision,recall,F1 and confusion matrix:recall precision \n",
    "#we save our gold list and predicted list for every itiration so we can create our confusion matirx\n",
    "        for (features, label) in test_this_round:\n",
    "            goldlist.append(label)\n",
    "            predictedlist.append(classifier.classify(features))\n",
    "        print (i, accuracy_this_round)\n",
    "        accuracy_list.append(accuracy_this_round)\n",
    "    # find mean accuracy over all rounds\n",
    "    print ('mean accuracy', sum(accuracy_list) / num_folds)\n",
    "    return goldlist,predictedlist"
   ]
  },
  {
   "cell_type": "code",
   "execution_count": 9,
   "id": "9b4e96e7",
   "metadata": {},
   "outputs": [
    {
     "name": "stdout",
     "output_type": "stream",
     "text": [
      "Each fold size: 600\n",
      "0 0.97\n",
      "1 0.96\n",
      "2 0.9633333333333334\n",
      "3 0.9533333333333334\n",
      "4 0.9683333333333334\n",
      "mean accuracy 0.9630000000000001\n"
     ]
    }
   ],
   "source": [
    "# perform the cross-validation on the featuresets with word features and generate accuracy\n",
    "num_folds = 5\n",
    "goldlist,predictedlist=cross_validation_accuracy(num_folds, featuresets)"
   ]
  },
  {
   "cell_type": "code",
   "execution_count": 10,
   "id": "bc278a80",
   "metadata": {},
   "outputs": [
    {
     "name": "stdout",
     "output_type": "stream",
     "text": [
      "['ham', 'ham', 'spam', 'spam', 'ham', 'spam', 'ham', 'spam', 'spam', 'spam', 'spam', 'spam', 'spam', 'spam', 'spam', 'spam', 'spam', 'spam', 'spam', 'ham', 'ham', 'spam', 'ham', 'spam', 'spam', 'ham', 'spam', 'spam', 'ham', 'spam']\n",
      "['ham', 'ham', 'spam', 'spam', 'ham', 'spam', 'ham', 'spam', 'spam', 'spam', 'spam', 'spam', 'spam', 'spam', 'spam', 'spam', 'spam', 'spam', 'spam', 'ham', 'ham', 'spam', 'ham', 'spam', 'spam', 'ham', 'spam', 'spam', 'ham', 'spam']\n"
     ]
    }
   ],
   "source": [
    "# look at the first 30 examples\n",
    "print(goldlist[:30])\n",
    "print(predictedlist[:30])"
   ]
  },
  {
   "cell_type": "code",
   "execution_count": 11,
   "id": "930fc4ea",
   "metadata": {},
   "outputs": [
    {
     "name": "stdout",
     "output_type": "stream",
     "text": [
      "     |         s |\n",
      "     |    h    p |\n",
      "     |    a    a |\n",
      "     |    m    m |\n",
      "-----+-----------+\n",
      " ham |<1396> 104 |\n",
      "spam |    7<1493>|\n",
      "-----+-----------+\n",
      "(row = reference; col = test)\n",
      "\n"
     ]
    }
   ],
   "source": [
    "cm = nltk.ConfusionMatrix(goldlist, predictedlist)\n",
    "print(cm.pretty_format(sort_by_count=True, truncate=9))"
   ]
  },
  {
   "cell_type": "code",
   "execution_count": 12,
   "id": "fe60cf8c",
   "metadata": {},
   "outputs": [
    {
     "name": "stdout",
     "output_type": "stream",
     "text": [
      "     |             s |\n",
      "     |      h      p |\n",
      "     |      a      a |\n",
      "     |      m      m |\n",
      "-----+---------------+\n",
      " ham | <46.5%>  3.5% |\n",
      "spam |   0.2% <49.8%>|\n",
      "-----+---------------+\n",
      "(row = reference; col = test)\n",
      "\n"
     ]
    }
   ],
   "source": [
    "# or show the results as percentages\n",
    "print(cm.pretty_format(sort_by_count=True, show_percents=True, truncate=9))"
   ]
  },
  {
   "cell_type": "code",
   "execution_count": 14,
   "id": "0505bf21",
   "metadata": {},
   "outputs": [
    {
     "name": "stdout",
     "output_type": "stream",
     "text": [
      "\tPrecision\tRecall\t\tF1\n",
      "spam \t      0.995      0.935      0.964\n",
      "ham \t      0.931      0.995      0.962\n"
     ]
    }
   ],
   "source": [
    "# Function to compute precision, recall and F1 for each label\n",
    "#  and for any number of labels\n",
    "# Input: list of gold labels, list of predicted labels (in same order)\n",
    "# Output:  prints precision, recall and F1 for each label\n",
    "def eval_measures(gold, predicted):\n",
    "    # get a list of labels\n",
    "    labels = list(set(gold))\n",
    "    # these lists have values for each label \n",
    "    recall_list = []\n",
    "    precision_list = []\n",
    "    F1_list = []\n",
    "    for lab in labels:\n",
    "        # for each label, compare gold and predicted lists and compute values\n",
    "        TP = FP = FN = TN = 0\n",
    "        for i, val in enumerate(gold):\n",
    "            if val == lab and predicted[i] == lab:  TP += 1\n",
    "            if val == lab and predicted[i] != lab:  FN += 1\n",
    "            if val != lab and predicted[i] == lab:  FP += 1\n",
    "            if val != lab and predicted[i] != lab:  TN += 1\n",
    "        # use these to compute recall, precision, F1\n",
    "        recall = TP / (TP + FP)\n",
    "        precision = TP / (TP + FN)\n",
    "        recall_list.append(recall)\n",
    "        precision_list.append(precision)\n",
    "        F1_list.append( 2 * (recall * precision) / (recall + precision))\n",
    "\n",
    "    # the evaluation measures in a table with one row per label\n",
    "    print('\\tPrecision\\tRecall\\t\\tF1')\n",
    "    # print measures for each label\n",
    "    for i, lab in enumerate(labels):\n",
    "        print(lab, '\\t', \"{:10.3f}\".format(precision_list[i]), \\\n",
    "          \"{:10.3f}\".format(recall_list[i]), \"{:10.3f}\".format(F1_list[i]))\n",
    "\n",
    "# call the function with our data\n",
    "eval_measures(goldlist, predictedlist)"
   ]
  },
  {
   "cell_type": "code",
   "execution_count": 15,
   "id": "3e6610c1",
   "metadata": {},
   "outputs": [
    {
     "name": "stdout",
     "output_type": "stream",
     "text": [
      "({'V_-': False, 'V_.': True, 'V_,': True, 'V_/': False, 'V_:': True, 'V_ect': False, 'V_?': True, 'V_@': False, 'V_subject': False, 'V_=': False, \"V_'\": False, 'V_)': False, 'V_(': False, 'V_!': False, 'V_hou': False, 'V_enron': False, 'V_$': False, 'V_;': False, 'V_3': False, 'V_2000': False, 'V_com': False, 'V__': False, 'V_please': False, 'V_``': False, 'V_1': False, 'V_2': False, 'V_00': False, 'V_%': False, 'V_|': False, 'V_gas': False, 'V_>': False, 'V_#': True, 'V_*': False, 'V_deal': True, 'V_e': False, 'V_10': False, 'V_http': False, 'V_0': False, 'V_000': False, 'V_meter': True, 'V_pm': False, 'V_4': False, 'V_hpl': False, 'V_cc': False, 'V_5': False, 'V_company': False, 'V_2001': False, 'V_new': False, 'V_may': False, 'V_thanks': False, 'V_information': False, 'V_get': False, 'V_price': False, 'V_11': False, 'V_01': False, 'V_daren': True, 'V_corp': False, 'V_need': False, 'V_7': False, 'V_know': False, 'V_us': False, 'V_www': False, 'V_&': False, 'V_time': False, 'V_email': False, 'V_12': False, 'V_6': False, 'V_one': False, 'V_see': False, 'V_message': False, 'V_l': False, 'V_99': False, 'V_p': False, 'V_8': False, 'V_9': False, 'V_would': False, 'V_mmbtu': False, 'V_j': False, 'V_let': False, 'V_forwarded': False, 'V_20': False, 'V_font': False, 'V_td': False, 'V_30': False, 'V_statements': False, 'V_15': False, 'V_+': False, 'V_th': False, 'V_day': False, 'V_farmer': False, 'V_03': False, 'V_02': False, 'V_also': False, 'V_attached': False, 'V_[': False, 'V_]': False, 'V_mail': False, 'V_x': False, 'V_b': False, 'V_nbsp': False, 'V_like': False, 'V_c': False, 'V_xls': False, 'V_month': False, 'V_contact': False, 'V_report': False, 'V_energy': False, 'V_free': False, 'V_sent': False, 'V_100': False, 'V_09': False, 'V_want': False, 'V_robert': False, 'V_05': False, 'V_r': False, 'V_change': False, 'V_25': False, 'V_contract': False, 'V_volume': False, 'V_within': False, 'V_height': False, 'V_business': False, 'V_08': False, 'V_inc': False, 'V_order': False, 'V_click': False, 'V_04': False, 'V_nom': False, 'V_today': False, 'V_deals': False, 'V_could': False, 'V_production': False, 'V_make': False, 'V_questions': False, 'V_call': False, 'V_back': False, 'V_sitara': False, 'V_stock': False, 'V_number': False, 'V_go': False, 'V_use': False, 'V_texas': False, 'V_forward': False, 'V_days': False, 'V_list': True, 'V_money': False, 'V_volumes': False, 'V_size': False, 'V_following': True, 'V_pills': False, 'V_first': False, 'V_bob': True, 'V_width': False, 'V_system': False, 'V_u': False, 'V_per': False, 'V_online': False, 'V_best': False, 'V_take': False, 'V_2004': False, 'V_investment': False, 'V_24': False, 'V_06': False, 'V_looking': False, 'V_net': False, 'V_file': False, 'V_21': False, 'V_pec': False, 'V_flow': False, 'V_available': False, 'V_well': False, 'V_60': False, 'V_07': False, 'V_50': False, 'V_products': False, 'V_31': False, 'V_effective': False, 'V_securities': False, 'V_sale': False, 'V_line': False, 'V_ticket': False, 'V_future': False, 'V_service': False, 'V_prices': False, 'V_oil': False, 'V_based': False, 'V_16': False, 'V_less': False, 'V_n': False, 'V_high': False, 'V_internet': False, 'V_market': False, 'V_product': False, 'V_713': False, 'V_office': False, 'V_original': False, 'V_many': False, 'V_28': False, 'V_14': False, 'V_next': False, 'V_daily': False, 'V_help': False, 'V_account': False, 'V_sales': False, 'V_address': False, 'V_march': False, 'V_news': False, 'V_v': False, 'V_computron': False, 'V_services': False, 'V_18': False, 'V_send': False, 'V_link': False, 'V_two': False, 'V_without': False, 'V_align': False, 'V_save': False, 'V_f': False, 'V_week': False, 'V_name': False, 'V_nomination': False, 'V_tr': False, 'V_made': False, 'V_g': False, 'V_due': False, 'V_17': False, 'V_22': False, 'V_thank': False, 'V_mary': False, 'V_last': False, 'V_23': False, 'V_year': False, 'V_info': False, 'V_work': False, 'V_h': False, 'V_software': False, 'V_windows': False, 'V_w': False, 'V_january': False, 'V_april': False, 'V_ena': False, 'V_plant': False, 'V_microsoft': False, 'V_site': False, 'V_center': False, 'V_july': False, 'V_29': False, 'V_offer': False, 'V_million': False, 'V_40': False, 'V_27': False, 'V_group': False, 'V_world': False, 'V_vance': True, 'V_said': False, 'V_gary': False, 'V_international': False, 'V_19': False, 'V_purchase': False, 'V_color': False, 'V_69': False, 'V_agreement': False, 'V_set': False, 'V_face': False, 'V_people': False, 'V_pt': False, 'V_13': False, 'V_phone': False, 'V_find': False, 'V_90': False, 'V_special': False, 'V_professional': False, 'V_border': False, 'V_companies': False, 'V_95': False, 'V_26': False, 'V_45': False, 'V_look': False, 'V_home': False, 'V_hours': False, 'V_june': False, 'V_needs': False, 'V_reply': False, 'V_nd': False, 'V_href': False, 'V_melissa': False, 'V_fax': False, \"V_''\": False, 'V_visit': False, 'V_section': False, 'V_good': True, 'V_delivery': False, 'V_teco': False, 'V_total': False, 'V_management': False, 'V_request': False, 'V_viagra': False, 'V_america': False, 'V_north': False, 'V_changes': False, 'V_receive': False, 'V_k': False, 'V_give': False, 'V_br': False, 'V_buy': False, 'V_think': False, 'V_check': False, 'V_fw': False, 'V_act': False, 'V_houston': False, 'V_process': False, 'V_performance': False, 'V_low': False, 'V_date': False, 'V_stop': False, 'V_julie': False, 'V_advice': False, 'V_tap': False, 'V_long': False, 'V_stocks': False, 'V_results': False, 'V_every': False, 'V_xp': False, 'V_remove': False, 'V_adobe': False, 'V_security': False, 'V_co': False, 'V_ami': False, 'V_120': False, 'V_hsc': False, 'V_pat': False, 'V_even': False, 'V_src': False, 'V_still': False, 'V_tenaska': False, 'V_much': False, 'V_right': False, 'V_great': False, 'V_susan': False, 'V_sure': False, 'V_going': False, 'V_point': False, 'V_via': False, 'V_show': False, 'V_part': False, 'V_george': False, 'V_trade': False, 'V_top': False, 'V_current': False, 'V_way': False, 'V_rate': False, 'V_63': False, 'V_smith': False, 'V_pay': False, 'V_family': False, 'V_shares': False, 'V_44': False, 'V_lisa': False, 'V_place': False, 'V_cialis': False, 'V_since': False, 'V_works': False, 'V_cotten': False, 'V_80': False, 'V_dollars': False, 'V_customers': False, 'V_megan': False, 'V_actual': False, 'V_currently': False, 'V_believe': False, 'V_friday': False, 'V_must': False, 'V_data': False, 'V_web': False, 'V_copy': False, 'V_end': False, 'V_september': False, 'V_desk': False, 'V_august': False, 'V_taylor': False, 'V_team': False, 'V_st': False, 'V_details': False, 'V_actuals': False, 'V_december': False, 'V_hi': False, 'V_2003': False, 'V_david': False, 'V_full': False, 'V_transport': False, 'V_quality': False, 'V_provide': False, 'V_500': False, 'V_including': False, 'V_mark': False, 'V_received': False, 'V_keep': False, 'V_soft': False, 'V_come': False, 'V_98': False, 'V_limited': False, 'V_michael': False, 'V_increase': False, 'V_customer': False, 'V_161': False, 'V_term': False, 'V_html': False, 'V_newsletter': False, 'V_natural': False, 'V_access': False, 'V_spot': False, 'V_prescription': False, 'V_note': False, 'V_needed': False, 'V_tickets': False, 'V_able': False, 'V_read': False, 'V_activity': False, 'V_offers': False, 'V_duke': False, 'V_financial': False, 'V_index': False, 'V_possible': False, 'V_using': False, 'V_interest': False, 'V_meds': False, 'V_cd': False, 'V_steve': False, 'V_content': False, 'V_review': False, 'V_support': False, 'V_include': False, 'V_past': False, 'V_real': False, 'V_style': False, 'V_better': False, 'V_entered': False, 'V_tom': False, 'V_fact': False, 'V_chokshi': False, 'V_technology': False, 'V_notice': False, 'V_provided': False, 'V_control': False, 'V_additional': False, 'V_iv': False, 'V_prior': False, 'V_program': False, 'V_months': False, 'V_manager': False, 'V_`': False, 'V_id': False, 'V_revised': False, 'V_october': False, 'V_fyi': False, 'V_sell': False, 'V_transaction': False, 'V_used': False, 'V_problem': False, 'V_thru': False, 'V_life': False, 'V_start': False, 'V_feb': False, 'V_shipping': False, 'V_global': False, 'V_noms': False, 'V_unify': False, 'V_feel': False, 'V_numbers': False, 'V_position': False, 'V_party': False, 'V_continue': False, 'V_eastrans': False, 'V_issue': False, 'V_jackie': False, 'V_regarding': False, 'V_resources': False, 'V_paliourg': False, 'V_paid': False, 'V_de': False, 'V_create': False, 'V_32': False, 'V_soon': False, 'V_events': False, 'V_jan': False, 'V_investing': False, 'V_john': False, 'V_corporation': False, 'V_three': False, 'V_cost': False, 'V_monday': False, 'V_risk': False, 'V_development': False, 'V_regards': False, 'V_another': False, 'V_aimee': False, 'V_put': False, 'V_ms': False, 'V_always': False, 'V_\\x01': False, 'V_counterparty': True, 'V_move': False, 'V_power': False, 'V_got': False, 'V_february': False, 'V_meters': False, 'V_dec': False, 'V_tu': False, 'V_created': False, 'V_young': False, 'V_fuel': False, 'V_project': False, 'V_fee': False, 'V_voip': False, 'V_never': False, 'V_demand': False, 'V_brian': False, 'V_pipeline': False, 'V_hplc': False, 'V_pro': False, 'V_november': False, 'V_thursday': False, 'V_industry': False, 'V_zone': False, 'V_update': False, 'V_someone': False, 'V_type': False, 'V_easy': False, 'V_field': False, 'V_clynes': False, 'V_estimates': False, 'V_supply': False, 'V_35': False, 'V_strong': False, 'V_meyers': False, 'V_graves': False, 'V_oo': False, 'V_mg': False, 'V_php': False, 'V_server': False, 'V_james': False, 'V_registered': False, 'V_wish': False, 'V_health': False, 'V_trading': False, 'V_marketing': False, 'V_contracts': False, 'V_done': False, 'V_little': False, 'V_follow': False, 'V_bgcolor': False, 'V_city': False, 'V_however': False, 'V_page': False, 'V_cash': False, 'V_36': False, 'V_direct': False, 'V_watch': False, 'V_drugs': False, 'V_wellhead': False, 'V_either': False, 'V_exchange': False, 'V_terms': False, 'V_china': False, 'V_rates': False, 'V_unsubscribe': False, 'V_try': False, 'V_website': False, 'V_pg': False, 'V_lee': False, 'V_private': False, 'V_loss': False, 'V_area': False, 'V_old': False, 'V_2005': False, 'V_mobile': False, 'V_states': False, 'V_add': False, 'V_tuesday': False, 'V_form': False, 'V_error': False, 'V_issues': False, 'V_ls': False, 'V_expectations': False, 'V_getting': False, 'V_years': False, 'V_united': False, 'V_anything': False, 'V_download': False, 'V_transfer': False, 'V_removed': False, 'V_pain': False, 'V_tx': False, 'V_suite': False, 'V_cause': False, 'V_third': False, 'V_material': False, 'V_na': False, 'V_love': False, 'V_major': False, 'V_ever': False, 'V_storage': False, 'V_required': False, 'V_55': False, 'V_scheduled': False, 'V_complete': False, 'V_big': False, 'V_might': False, 'V_retail': False, 'V_utilities': False, 'V_personal': False, 'V_lloyd': False, 'V_already': False, 'V_text': False, 'V_risks': False, 'V_computer': False, 'V_view': False, 'V_txu': False, 'V_gif': False, 'V_rita': False, 'V_hanks': False, 'V_drive': False, 'V_bank': False, 'V_letter': False, 'V_worldwide': False, 'V_release': False, 'V_second': False, 'V_canada': False, 'V_tabs': False, 'V_48': False, 'V_biz': False, 'V_working': False, 'V_operations': False, 'V_action': False, 'V_operating': False, 'V_pricing': False, 'V_im': False, 'V_country': False, 'V_cs': False, 'V_case': False, 'V_credit': False, 'V_called': False, 'V_growth': False, 'V_man': False, 'V_box': False, 'V_mr': False, 'V_duty': False, 'V_spam': False, 'V_image': False, 'V_person': False, 'V_ali': False, 'V_enter': False, 'V_\\\\': False, 'V_publisher': False, 'V_orders': False, 'V_commercial': False, 'V_reason': False, 'V_confirm': False, 'V_howard': False, 'V_state': False, 'V_weight': False, 'V_potential': False, 'V_remember': False, 'V_971': False, 'V_browser': False, 'V_small': False, 'V_hope': False, 'V_iferc': False, 'V_differ': False, 'V_meeting': False, 'V_press': False, 'V_70': False, 'V_period': False, 'V_sat': False, 'V_application': False, 'V_jones': False, 'V_firm': False, 'V_yet': False, 'V_left': False, 'V_source': False, 'V_technologies': False, 'V_correct': False, 'V_everyone': False, 'V_around': False, 'V_department': False, 'V_wynne': False, 'V_important': False, 'V_200': False, 'V_morning': False, 'V_charge': False, 'V_amount': False, 'V_latest': False, 'V_necessary': False, 'V_kind': False, 'V_super': False, 'V_ces': False, 'V_payment': False, 'V_expected': False, 'V_middle': False, 'V_survey': False, 'V_katy': False, 'V_spreadsheet': True, 'V_south': False, 'V_late': False, 'V_times': False, 'V_intended': False, 'V_compliance': False, 'V_open': False, 'V_public': False, 'V_thought': False, 'V_mike': False, 'V_124': False, 'V_mx': False, 'V_really': False, 'V_federal': False, 'V_body': False, 'V_300': False, 'V_anyone': False, 'V_target': False, 'V_expect': False, 'V_deliveries': False, 'V_pefs': False, 'V_interested': False, 'V_nominations': False, 'V_photoshop': False, 'V_wednesday': False, 'V_nothing': False, 'V_cheap': False, 'V_52': False, 'V_brand': False, 'V_img': False, 'V_table': False, 'V_enronxgate': False, 'V_39': False, 'V_hplno': False, 'V_something': False, 'V_lose': False, 'V_meet': False, 'V_stack': False, 'V_employees': False, 'V_plans': False, 'V_paste': False, 'V_85': False, 'V_valign': False, 'V_al': False, 'V_uncertainties': False, 'V_found': False, 'V_accounting': False, 'V_fill': False, 'V_large': False, 'V_network': False, 'V_users': False, 'V_certain': False, 'V_men': False, 'V_sex': False, 'V_allocation': False, 'V_quick': False, 'V_camp': False, 'V_say': False, 'V_everything': False, 'V_exploration': False, 'V_systems': False, 'V_hard': False, 'V_~': False, 'V_considered': False, 'V_write': False, 'V_sun': False, 'V_coastal': False, 'V_zero': False, 'V_beaumont': False, 'V_investors': False, 'V_agree': False, 'V_jpg': False, 'V_gathering': False, 'V_meaning': False, 'V_publication': False, 'V_doc': False, 'V_sources': False, 'V_gco': False, 'V_000000': False, 'V_weeks': False, 'V_plan': False, 'V_features': False, 'V_usa': False, 'V_katherine': False, 'V_version': False, 'V_location': False, 'V_updated': False, 'V_div': False, 'V_secure': False, 'V_bill': False, 'V_weissman': False, 'V_moopid': False, 'V_hotlist': False, 'V_subscribers': False, 'V_featured': False, 'V_capital': False, 'V_hello': False, 'V_solution': False, 'V_75': False, 'V_fund': False, 'V_generic': False, 'V_things': False, 'V_run': False, 'V_away': False, 'V_property': False, 'V_advise': False, 'V_darren': False, 'V_longer': False, 'V_user': False, 'V_hplo': False, 'V_lannou': False, 'V_parker': False, 'V_beginning': False, 'V_pharmacy': False, 'V_54': False, 'V_38': False, 'V_involve': False, 'V_ready': False, 'V_medical': False, 'V_offering': False, 'V_several': False, 'V_sherlyn': False, 'V_thing': False, 'V_given': False, 'V_dear': False, 'V_epson': False, 'V_format': False, 'V_code': False, 'V_vlt': False, 'V_safe': False, 'V_music': False, 'V_projections': False, 'V_impact': False, 'V_cut': False, 'V_pc': False, 'V_calls': False, 'V_recent': False, 'V_56': False, 'V_side': False, 'V_approved': False, 'V_fast': False, 'V_tel': False, 'V_availability': False, 'V_title': False, 'V_images': False, 'V_lst': False, 'V_33': False, 'V_problems': False, 'V_ic': False, 'V_words': False, 'V_hot': False, 'V_approval': False, 'V_legal': False, 'V_logistics': False, 'V_weekend': False, 'V_calpine': False, 'V_director': False, 'V_fuels': False, 'V_path': False, 'V_aware': False, 'V_47': False, 'V_options': False, 'V_ask': False, 'V_gr': False, 'V_htmlimg': False, 'V_xanax': False, 'V_shows': False, 'V_shut': False, 'V_book': False, 'V_completed': False, 'V_·': False, 'V_imbalance': False, 'V_gcs': False, 'V_cec': False, 'V_different': False, 'V_close': False, 'V_immediately': False, 'V_plus': False, 'V_ability': False, 'V_800': False, 'V_says': False, 'V_donald': False, 'V_producer': False, 'V_clem': False, 'V_express': False, 'V_profile': False, 'V_president': False, 'V_shall': False, 'V_taking': False, 'V_valley': False, 'V_wanted': False, 'V_final': False, 'V_begin': False, 'V_buyback': False, 'V_colspan': False, 'V_wide': False, 'V_corel': False, 'V_portfolio': False, 'V_readers': False, 'V_facility': False, 'V_tell': False, 'V_voice': False, 'V_thousand': False, 'V_delta': False, 'V_entex': False, 'V_macromedia': False, 'V_care': False, 'V_clear': False, 'V_four': False, 'V_dell': False, 'V_acton': False, 'V_carlos': False, 'V_wi': False, 'V_lsk': False, 'V_channel': False, 'V_listed': False, 'V_ltd': False, 'V_49': False, 'V_methanol': False, 'V_requirements': False, 'V_factors': False, 'V_valid': False, 'V_level': False, 'V_become': False, 'V_dealer': False, 'V_edition': False, 'V_short': False, 'V_invoice': False, 'V_projects': False, 'V_central': False, 'V_valium': False, 'V_basis': False, 'V_sept': False, 'V_added': False, 'V_upon': False, 'V_tax': False, 'V_prize': False, 'V_fred': False, 'V_else': False, 'V_approximately': False, 'V_knle': False, 'V_doctor': False, 'V_experience': False, 'V_allen': False, 'V_national': False, 'V_34': False, 'V_related': False, 'V_learn': False, 'V_included': False, 'V_pops': False, 'V_attention': False, 'V_allocated': False, 'V_instant': False, 'V_rolex': False, 'V_tomorrow': False, 'V_night': False, 'V_therefore': False, 'V_perfect': False, 'V_intel': False, 'V_instructions': False, 'V_exactly': False, 'V_reinhardt': False, 'V_donna': False, 'V_iit': False, 'V_demokritos': False, 'V_value': False, 'V_2002': False, 'V_none': False, 'V_thu': False, 'V_relief': False, 'V_cover': False, 'V_card': False, 'V_cotton': False, 'V_directly': False, 'V_god': False, 'V_1999': False, 'V_hey': False, 'V_el': False, 'V_share': False, 'V_schedule': False, 'V_105': False, 'V_42': False, 'V_changed': False, 'V_6353': False, 'V_talk': False, 'V_dy': False, 'V_mentioned': False, 'V_london': False, 'V_assistance': False, 'V_requested': False, 'V_half': False, 'V_financing': False, 'V_friends': False, 'V_65': False, 'V_confirmed': False, 'V_q': False, 'V_discount': False, 'V_opportunity': False, 'V_key': False, 'V_rd': False, 'V_medications': False, 'V_addition': False, 'V_contains': False, 'V_ship': False, 'V_video': False, 'V_later': False, 'V_victor': False, 'V_response': False, 'V_physical': False, 'V_mid': False, 'V_others': False, 'V_includes': False, 'V_investor': False, 'V_richard': False, 'V_head': False, 'V_bring': False, 'V_reference': False, 'V_carthage': False, 'V_cornhusker': False, 'V_happy': False, 'V_items': False, 'V_swing': False, 'V_etc': False, 'V_59': False, 'V_choose': False, 'V_general': False, 'V_making': False, 'V_ibm': False, 'V_allow': False, 'V_reserves': False, 'V_yahoo': False, 'V_guarantee': False, 'V_extended': False, 'V_simply': False, 'V_huge': False, 'V_play': False, 'V_monthly': False, 'V_handle': False, 'V_mind': False, 'V_fixed': False, 'V_stone': False, 'V_verify': False, 'V_speculative': False, 'V_1933': False, 'V_identified': False, 'V_option': False, 'V_women': False, 'V_history': False, 'V_stella': False, 'V_aep': False, 'V_matter': False, 'V_media': False, 'V_gold': False, 'V_rnd': False, 'V_representative': False, 'V_ex': False, 'V_selected': False, 'V_plain': False, 'V_passed': False, 'V_shown': False, 'V_cheryl': False, 'V_revision': False, 'V_hplnl': False, 'V_taken': False, 'V_known': False, 'V_respect': False, 'V_notes': False, 'V_37': False, 'V_htm': False, 'V_purchases': False, 'V_ranch': False, 'V_star': False, 'V_58': False, 'V_effort': False, 'V_receipt': False, 'V_government': False, 'V_poorman': False, 'V_rx': False, 'V_answer': False, 'V_ken': False, 'V_eol': False, 'V_digital': False, 'V_coming': False, 'V_jebel': False, 'V_101': False, 'V_told': False, 'V_together': False, 'V_increased': False, 'V_aol': False, 'V_girls': False, 'V_return': False, 'V_equistar': False, 'V_scott': False, 'V_near': False, 'V_redeliveries': False, 'V_distribution': False, 'V_jennifer': False, 'V_savings': False, 'V_penis': False, 'V_creative': False, 'V_lots': False, 'V_paragraph': False, 'V_hear': False, 'V_believes': False, 'V_occur': False, 'V_confirmation': False, 'V_status': False, 'V_345': False, 'V_thomas': False, 'V_took': False, 'V_sold': False, 'V_la': False, 'V_dvd': False, 'V_reports': False, 'V_priced': False, 'V_schumack': False, 'V_feedback': False, 'V_cf': False, 'V_turn': False, 'V_sign': False, 'V_bridge': False, 'V_extend': False, 'V_charlie': False, 'V_probably': False, 'V_anticipated': False, 'V_delivered': False, 'V_non': False, 'V_base': False, 'V_partners': False, 'V_ray': False, 'V_referenced': False, 'V_select': False, 'V_live': False, 'V_officer': False, 'V_sorry': False, 'V_password': False, 'V_partner': False, 'V_stacey': False, 'V_sec': False, 'V_albrecht': False, 'V_usb': False, 'V_neal': False, 'V_alt': False, 'V_claim': False, 'V_though': False, 'V_listing': False, 'V_iii': False, 'V_}': False, 'V_question': False, 'V_cynthia': False, 'V_baumbach': False, 'V_rodriguez': False, 'V_travel': False, 'V_assist': False, 'V_shipped': False, 'V_five': False, 'V_air': False, 'V_lp': False, 'V_union': False, 'V_agent': False, 'V_tess': False, 'V_active': False, 'V_normally': False, 'V_cds': False, 'V_½': False, 'V_oi': False, 'V_popular': False, 'V_door': False, 'V_waiting': False, 'V_enough': False, 'V_wireless': False, 'V_suggestions': False, 'V_discussions': False, 'V_hesse': False, 'V_draw': False, 'V_existing': False, 'V_expects': False, 'V_ooking': False, 'V_seek': False, 'V_inherent': False, 'V_costs': False, 'V_estimate': False, 'V_853': False, 'V_700': False, 'V_follows': False, 'V_research': False, 'V_takes': False, 'V_wants': False, 'V_devon': False, 'V_vacation': False, 'V_enjoy': False, 'V_ca': False, 'V_communication': False, 'V_game': False, 'V_east': False, 'V_fun': False, 'V_assumptions': False, 'V_records': False, 'V_purchased': False, 'V_liz': False, 'V_advantage': False, 'V_messages': False, 'V_scheduling': False, 'V_coupon': False, 'V_processing': False, 'V_morris': False, 'V_darial': False, 'V_wife': False, 'V_gra': False, 'V_american': False, 'V_canon': False, 'V_respective': False, 'V_unique': False, 'V_solutions': False, 'V_nominated': False, 'V_white': False, 'V_local': False, 'V_revenue': False, 'V_conflict': False, 'V_similar': False, 'V_outage': False, 'V_reduce': False, 'V_ago': False, 'V_bad': False, 'V_excess': False, 'V_exclusive': False, 'V_markets': False, 'V_track': False, 'V_dr': False, 'V_enrononline': False, 'V_yap': False, 'V_0310041': False, 'V_z': False, 'V_charlotte': False, 'V_specific': False, 'V_export': False, 'V_owners': False, 'V_reach': False, 'V_57': False, 'V_starting': False, 'V_success': False, 'V_1934': False, 'V_common': False, 'V_sexual': False, 'V_minutes': False, 'V_age': False, 'V_alert': False, 'V_presently': False, 'V_guys': False, 'V_mailto': False, 'V_members': False, 'V_jim': False, 'V_store': False, 'V_industrial': False, 'V_broadband': False, 'V_unit': False, 'V_land': False, 'V_±': False, 'V_informed': False, 'V_flash': False, 'V_category': False, 'V_class': False, 'V_ok': False, 'V_clearance': False, 'V_sony': False, 'V_quickly': False, 'V_lauri': False, 'V_result': False, 'V_objectives': False, 'V_statement': False, 'V_advised': False, 'V_advisor': False, 'V_staff': False, 'V_gpgfin': False, 'V_papayoti': False, 'V_receiving': False, 'V_connection': False, 'V_early': False, 'V_wells': False, 'V_expense': False, 'V_understanding': False, 'V_training': False, 'V_worth': False, 'V_course': False, 'V_pill': False, 'V_affiliate': False, 'V_businesses': False, 'V_jeff': False, 'V_ed': False, 'V_limit': False, 'V_quarter': False, 'V_held': False, 'V_profit': False, 'V_solicitation': False, 'V_opinion': False, 'V_fri': False, 'V_281': False, 'V_en': False, 'V_shop': False, 'V_highly': False, 'V_830': False, 'V_confidential': False, 'V_balance': False, 'V_fat': False, 'V_properties': False, 'V_basin': False, 'V_outstanding': False, 'V_0424040': False, 'V_ftar': False, 'V_petroleum': True, 'V_story': False, 'V_house': False, 'V_green': False, 'V_test': False, 'V_bit': False, 'V_toshiba': False, 'V_somehow': False, 'V_logos': False, 'V_comes': False, 'V_250': False, 'V_showing': False, 'V_riley': False, 'V_entire': False, 'V_herein': False, 'V_purpose': False, 'V_member': False, 'V_emails': False, 'V_billion': False, 'V_dfarmer': False, 'V_facts': False, 'V_claims': False, 'V_hall': False, 'V_citibank': False, 'V_opportunities': False, 'V_gb': False, 'V_titles': False, 'V_friend': False, 'V_represent': False, 'V_ensure': False, 'V_ordering': False, 'V_range': False, 'V_compaq': False, 'V_gotten': False, 'V_trademarks': False, 'V_bryan': False, 'V_cable': False, 'V_enterprise': False, 'V_normal': False, 'V_announced': False, 'V_acquisition': False, 'V_various': False, 'V_asked': False, 'V_ct': False, 'V_beverly': False, 'V_^': False, 'V_light': False, 'V_edward': False, 'V_aepin': False, 'V_lower': False, 'V_europe': False, 'V_51': False, 'V_went': False, 'V_tetco': False, 'V_immediate': False, 'V_expired': False, 'V_°': False, 'V_front': False, 'V_points': False, 'V_lowest': False, 'V_sincerely': False, 'V_whole': False, 'V_viewsonic': False, 'V_resellers': False, 'V_congress': False, 'V_soma': False, 'V_{': False, 'V_provides': False, 'V_additionally': False, 'V_match': False, 'V_53': False, 'V_rm': False, 'V_symbol': False, 'V_yes': False, 'V_revenues': False, 'V_greater': False, 'V_broker': False, 'V_conditions': False, 'V_database': False, 'V_leave': False, 'V_vicodin': False, 'V_bellamy': False, 'V_43': False, 'V_lot': False, 'V_rest': False, 'V_print': False, 'V_materially': False, 'V_moved': False, 'V_acceptance': False, 'V_mobil': False, 'V_step': False, 'V_hub': False, 'V_eric': False, 'V_afternoon': False, 'V_saturday': False, 'V_looks': False, 'V_fontfont': False, 'V_chance': False, 'V_california': False, 'V_pick': False, 'V_expenses': False, 'V_leader': False, 'V_multiple': False, 'V_robotics': False, 'V_complaints': False, 'V_1618': False, 'V_lsp': False, 'V_cellpadding': False, 'V_word': False, 'V_ceo': False, 'V_karen': False, 'V_foreign': False, 'V_ua': False, 'V_149': False, 'V_mcf': False, 'V_pre': False, 'V_tried': False, 'V_accuracy': False, 'V_goals': False, 'V_41': False, 'V_ext': False, 'V_cleburne': False, 'V_mailing': False, 'V_hour': False, 'V_sunday': False, 'V_098': False, 'V_mccoy': False, 'V_cell': False, 'V_nov': False, 'V_goes': False, 'V_positive': False, 'V_wait': False, 'V_licensed': False, 'V_speed': False, 'V_dealers': False, 'V_hewlett': False, 'V_8834464': False, 'V_8834454': False, 'V_legislation': False, 'V_4176': False, 'V_flowed': False, 'V_cernosek': False, 'V_join': False, 'V_materia': False, 'V_dave': False, 'V_minute': False, 'V_black': False, 'V_anita': False, 'V_resulting': False, 'V_running': False, 'V_guaranteed': False, 'V_placed': False, 'V_contents': False, 'V_car': False, 'V_average': False, 'V_transactions': False, 'V_employee': False, 'V_nguyen': False, 'V_dow': False, 'V_1226030': False, 'V_finally': False, 'V_advanced': False, 'V_applications': False, 'V_enquiries': False, 'V_packard': False, 'V_iomega': False, 'V_aopen': False, 'V_apc': False, 'V_cisco': False, 'V_intellinet': False, 'V_targus': False, 'V_customerservice': False, 'V_standard': False, 'V_enserch': False, 'V_yesterday': False, 'V_janet': False, 'V_red': False, 'V_se': False, 'V_cap': False, 'V_names': False, 'V_indicating': False, 'V_understood': False, 'V_overnight': False, 'V_0435': False, 'V_started': False, 'V_search': False, 'V_providing': False, 'V_came': False, 'V_spoke': False, 'V_sum': False, 'V_promotions': False, 'V_nomad': False, 'V_window': False, 'V_pass': False, 'V_lamadrid': False, 'V_road': False, 'V_invest': False, 'V_higher': False, 'V_oasis': False, 'V_initial': False, 'V_record': False, 'V_midcon': False, 'V_92': False, 'V_thousands': False, 'V_document': False, 'V_programs': False, 'V_uae': False, 'V_hesco': False, 'V_event': False, 'V_almost': False, 'V_construed': False, 'V_est': False, 'V_46': False, 'V_bought': False, 'V_individual': False, 'V_art': False, 'V_heard': False, 'V_stay': False, 'V_avoid': False, 'V_appreciate': False, 'V_lone': False, 'V_board': False, 'V_contained': False, 'V_lottery': False, 'V_funds': False, 'V_telephone': False, 'V_seen': False, 'V_button': False, 'V_drug': False, 'V_spring': False, 'V_documents': False, 'V_couple': False, 'V_exception': False, 'V_reflect': False, 'V_focus': False, 'V_assets': False, 'V_tejas': False, 'V_valero': False, 'V_whether': False, 'V_specials': False, 'V_met': False, 'V_agreed': False, 'V_bottom': False, 'V_corporate': False, 'V_benefit': False, 'V_require': False, 'V_concern': False, 'V_johnson': False, 'V_jo': False, 'V_children': False, 'V_predictions': False, 'V_actions': False, 'V_pertaining': False, 'V_outages': False, 'V_holding': False, 'V_six': False, 'V_load': False, 'V_percent': False, 'V_model': False, 'V_otc': False, 'V_78': False, 'V_discuss': False, 'V_sandi': False, 'V_bruce': False, 'V_dollar': False, 'V_along': False, 'V_brenda': False, 'V_recently': False, 'V_filings': False, 'V_waha': False, 'V_pipe': False, 'V_room': False, 'V_4179': False, 'V_mb': False, 'V_positions': False, 'V_itoy': False, 'V_oct': False, 'V_paso': False, 'V_extra': False, 'V_inform': False, 'V_97': False, 'V_port': False, 'V_zonedubai': False, 'V_emirates': False, 'V_aeor': False, 'V_build': False, 'V_svcs': False, 'V_walker': False, 'V_earl': False, 'V_sports': False, 'V_leading': False, 'V_anticipates': False, 'V_deciding': False, 'V_muscle': False, 'V_anti': False, 'V_according': False, 'V_job': False, 'V_diligence': False, 'V_roll': False, 'V_european': False, 'V_involved': False, 'V_father': False, 'V_simple': False, 'V_apr': False, 'V_shell': False, 'V_waste': False, 'V_leth': False, 'V_charset': False, 'V_maintenance': False, 'V_appear': False, 'V_aug': False, 'V_gift': False, 'V_oem': False, 'V_treatment': False, 'V_amazon': False, 'V_designed': False, 'V_lamphier': False, 'V_rock': False, 'V_norton': False, 'V_doctors': False, 'V_ees': False, 'V_accounts': False, 'V_trying': False, 'V_finance': False, 'V_assurance': False, 'V_boas': False, 'V_solid': False, 'V_william': False, 'V_king': False, 'V_wilson': False, 'V_generation': False, 'V_located': False, 'V_affordable': False, 'V_enerfin': False, 'V_school': False, 'V_activities': False, 'V_settlements': False, 'V_otcbb': False, 'V_dynegy': False, 'V_equity': False, 'V_usd': False, 'V_min': False, 'V_ce': False, 'V_manual': False, 'V_submit': False, 'V_understand': False, 'V_holmes': False, 'V_reveffo': False, 'V_superty': False, 'V_female': False, 'V_ei': False, 'V_communications': False, 'V_internationa': False, 'V_historical': False, 'V_resuits': False, 'V_understands': False, 'V_estimated': False, 'V_trader': False, 'V_229': False, 'V_post': False, 'V_inside': False, 'V_strategy': False, 'V_shareholder': False, 'V_withers': False, 'V_grow': False, 'V_websites': False, 'V_selling': False, 'V_elizabeth': False, 'V_compensation': False, 'V_apply': False, 'V_difference': False, 'V_internal': False, 'V_lost': False, 'V_parties': False, 'V_appropriate': False, 'V_paying': False, 'V_purposes': False, 'V_gtc': False, 'V_reliable': False, 'V_dial': False, 'V_decided': False, 'V_koch': False, 'V_husband': False, 'V_medication': False, 'V_explode': False, 'V_efforts': False, 'V_privacy': False, 'V_tracked': False, 'V_movies': False, 'V_studio': False, 'V_owner': False, 'V_annual': False, 'V_lead': False, 'V_sites': False, 'V_crosstex': False, 'V_rights': False, 'V_competitive': False, 'V_bankruptcy': False, 'V_hundred': False, 'V_remain': False, 'V_spain': False, 'V_belize': False, 'V_acts': False, 'V_assigned': False, 'V_notify': False, 'V_mix': False, 'V_deliver': False, 'V_hold': False, 'V_cdnow': False, 'V_matt': False, 'V_pathed': False, 'V_mar': False, 'V_kcs': False, 'V_senior': False, 'V_blank': False, 'V_heart': False, 'V_400': False, 'V_investments': False, 'V_vi': False, 'V_tina': False, 'V_illustrator': False, 'V_premium': False, 'V_palestinian': False, 'V_among': False, 'V_verdana': False, 'V_arial': False, 'V_registration': False, 'V_tools': False, 'V_avila': False, 'V_jill': False, 'V_true': False, 'V_least': False, 'V_laptop': False, 'V_graphics': False, 'V_un': False, 'V_proven': False, 'V_entertainment': False, 'V_foresee': False, 'V_accept': False, 'V_welcome': False, 'V_previous': False, 'V_booked': False, 'V_flowing': False, 'V_600': False, 'V_timing': False, 'V_package': False, 'V_68': False, 'V_kim': False, 'V_hill': False, 'V_monitor': False, 'V_cowboy': False, 'V_transportation': False, 'V_usage': False, 'V_mining': False, 'V_evergreen': False, 'V_russ': False, 'V_aerofoam': False, 'V_forever': False, 'V_fine': False, 'V_description': False, 'V_africa': False, 'V_reliantenergy': False, 'V_hakemack': False, 'V_remaining': False, 'V_tisdale': False, 'V_tv': False, 'V_apple': False, 'V_idea': False, 'V_acquire': False, 'V_advises': False, 'V_mailings': False, 'V_clickathome': False, 'V_equipment': False, 'V_ebs': False, 'V_pager': False, 'V_quit': False, 'V_multi': False, 'V_availabilities': False, 'V_luong': False, 'V_gain': False, 'V_96': False, 'V_louisiana': False, 'V_quote': False, 'V_pleased': False, 'V_erections': False, 'V_far': False, 'V_means': False, 'V_releases': False, 'V_exxon': False, 'V_analysis': False, 'V_stuff': False, 'V_external': False, 'V_sofftwaares': False, 'V_participate': False, 'V_³': False, 'V_eogi': False, 'V_wysak': False, 'V_abdv': False, 'V_unaccounted': False, 'V_street': False, 'V_column': False, 'V_ad': False, 'V_deposit': False, 'V_kenneth': False, 'V_edit': False, 'V_design': False, 'V_powerful': False, 'V_actually': False, 'V_llc': False, 'V_committed': False, 'V_wiil': False, 'V_intent': False, 'V_249': False, 'V_89': False, 'V_ref': False, 'V_competition': False, 'V_adult': False, 'V_sea': False, 'V_morgan': False, 'V_und': False, 'V_force': False, 'V_unlimited': False, 'V_protocol': False, 'V_penny': False, 'V_files': False, 'V_pubiisher': False, 'V_750': False, 'V_present': False, 'V_diamond': False, 'V_mitchell': False, 'V_pinion': False, 'V_kimberly': False, 'V_engage': False, 'V_gains': False, 'V_mm': False, 'V_tammy': False, 'V_situation': False, 'V_invoices': False, 'V_military': False, 'V_easttexas': False, 'V_brazos': False, 'V_premiere': False, 'V_across': False, 'V_apache': False, 'V_operation': False, 'V_atleast': False, 'V_anywhere': False, 'V_eileen': False, 'V_wed': False, 'V_saw': False, 'V_herrera': False, 'V_cellspacing': False, 'V_ffffff': False, 'V_environment': False, 'V_hottlist': False, 'V_fl': False, 'V_fully': False, 'V_earlier': False, 'V_eye': False, 'V_rom': False, 'V_phentermine': False, 'V_automatically': False, 'V_purchasing': False, 'V_dosage': False, 'V_consultation': False, 'V_determine': False, 'V_banking': False, 'V_sa': False, 'V_reduction': False, 'V_announces': False, 'V_las': False, 'V_netherlands': False, 'V_double': False, 'V_tech': False, 'V_issued': False, 'V_proprietary': False, 'V_lines': False, 'V_male': False, 'V_dan': False, 'V_membership': False, 'V_benefits': False, 'V_county': False, 'V_significant': False, 'V_hanson': False, 'V_consumers': False, 'V_preparation': False, 'V_payments': False, 'V_behalf': False, 'V_moving': False, 'V_ail': False, 'V_west': False, 'V_ga': False, 'V_213': False, 'V_alternative': False, 'V_missing': False, 'V_urgent': False, 'V_»': False, 'V_highest': False, 'V_terry': False, 'V_notification': False, 'V_worked': False, 'V_prescriptions': False, 'V_woman': False, 'V_fwd': False, 'V_128': False, 'V_instead': False, 'V_manage': False, 'V_pop': False, 'V_schneider': False, 'V_profiles': False, 'V_pics': False, 'V_beliefs': False, 'V_holdings': False, 'V_pleasure': False, 'V_input': False, 'V_cpr': False, 'V_attachment': False, 'V_em': False, 'V_carry': False, 'V_pictures': False, 'V_son': False, 'V_vegas': False, 'V_neon': False, 'V_discussion': False, 'V_buying': False, 'V_ponton': False, 'V_undervalued': False, 'V_official': False, 'V_reasons': False, 'V_associated': False, 'V_self': False, 'V_award': False, 'V_respond': False, 'V_cilco': False, 'V_shopping': False, 'V_tongue': False, 'V_gulf': False, 'V_effect': False, 'V_massive': False, 'V_trevino': False, 'V_serve': False, 'V_primary': False, 'V_club': False, 'V_confidentiality': False, 'V_yvette': False, 'V_kinsey': False, 'V_hp': False, 'V_pi': False, 'V_conversion': False, 'V_conversation': False, 'V_eight': False, 'V_behind': False, 'V_stand': False, 'V_draft': False, 'V_troy': False, 'V_videos': False, 'V_winfree': False, 'V_revisions': False, 'V_84': False, 'V_maybe': False, 'V_silver': False, 'V_southern': False, 'V_couid': False, 'V_opinions': False, 'V_sap': False, 'V_decision': False, 'V_expensive': False, 'V_1000': False, 'V_law': False, 'V_guide': False, 'V_cia': False, 'V_recorded': False, 'V_kevin': False, 'V_heidi': False, 'V_technoiogies': False, 'V_transmission': False, 'V_sir': False, 'V_loading': False, 'V_asap': False, 'V_clean': False, 'V_games': False, 'V_dose': False, 'V_gets': False, 'V_interconnect': False, 'V_blood': False, 'V_regular': False, 'V_herod': False, 'V_mean': False, 'V_executive': False, 'V_150': False}, 'ham')\n"
     ]
    }
   ],
   "source": [
    "#lets remove stopwords\n",
    "stopwords = nltk.corpus.stopwords.words('english')\n",
    "new_all_words_list=[word for word in all_words if word not in stopwords]\n",
    "new_all_words=nltk.FreqDist(new_all_words_list)\n",
    "new_words_items=new_all_words.most_common(2000)\n",
    "word_features_withoutstopwords = [word for (word, freq) in new_words_items]\n",
    "# get features sets for a document, including keyword features and category feature\n",
    "featuresets_withoutStopwords = [(document_features(d, word_features_withoutstopwords), c) for (d,c) in emaildocs]\n",
    "# the feature sets are 2000 words long\n",
    "print(featuresets_withoutStopwords[1])"
   ]
  },
  {
   "cell_type": "code",
   "execution_count": 16,
   "id": "624b6673",
   "metadata": {},
   "outputs": [
    {
     "name": "stdout",
     "output_type": "stream",
     "text": [
      "Accuracy after removing Stop Words :0.9666666666666667\n",
      "Most Informative Features\n",
      "             V_forwarded = True              ham : spam   =    223.6 : 1.0\n",
      "                   V_hou = True              ham : spam   =    206.7 : 1.0\n",
      "                   V_nom = True              ham : spam   =    130.9 : 1.0\n",
      "                   V_ect = True              ham : spam   =    129.1 : 1.0\n",
      "                  V_2001 = True              ham : spam   =     82.1 : 1.0\n",
      "            V_nomination = True              ham : spam   =     78.0 : 1.0\n",
      "                   V_bob = True              ham : spam   =     57.4 : 1.0\n",
      "          V_prescription = True             spam : ham    =     56.8 : 1.0\n",
      "                V_farmer = True              ham : spam   =     50.6 : 1.0\n",
      "                  V_lisa = True              ham : spam   =     47.3 : 1.0\n",
      "                 V_susan = True              ham : spam   =     47.3 : 1.0\n",
      "                  V_2005 = True             spam : ham    =     45.3 : 1.0\n",
      "                    V_cc = True              ham : spam   =     43.8 : 1.0\n",
      "                   V_713 = True              ham : spam   =     42.9 : 1.0\n",
      "                 V_steve = True              ham : spam   =     42.1 : 1.0\n",
      "                  V_duke = True              ham : spam   =     40.2 : 1.0\n",
      "                   V_tap = True              ham : spam   =     38.2 : 1.0\n",
      "                V_meyers = True              ham : spam   =     37.5 : 1.0\n",
      "            V_deliveries = True              ham : spam   =     36.9 : 1.0\n",
      "                 V_plain = True             spam : ham    =     36.4 : 1.0\n",
      "                   V_sex = True             spam : ham    =     36.4 : 1.0\n",
      "                V_meters = True              ham : spam   =     36.2 : 1.0\n",
      "             V_guarantee = True             spam : ham    =     33.0 : 1.0\n",
      "              V_featured = True             spam : ham    =     32.3 : 1.0\n",
      "             V_investing = True             spam : ham    =     32.3 : 1.0\n",
      "                   V_men = True             spam : ham    =     32.3 : 1.0\n",
      "                V_howard = True              ham : spam   =     32.3 : 1.0\n",
      "                 V_fuels = True              ham : spam   =     31.7 : 1.0\n",
      "                 V_unify = True              ham : spam   =     31.7 : 1.0\n",
      "                   V_vlt = True              ham : spam   =     31.7 : 1.0\n",
      "None\n"
     ]
    }
   ],
   "source": [
    "# training using naive Baysian classifier with a 90/10 split\n",
    "train_set, test_set = featuresets_withoutStopwords[300:], featuresets_withoutStopwords[:300]\n",
    "classifier = nltk.NaiveBayesClassifier.train(train_set)\n",
    "# evaluate the accuracy of the classifier\n",
    "print (f'Accuracy after removing Stop Words :{nltk.classify.accuracy(classifier, test_set)}')\n",
    "# the accuracy result may vary since we randomized the documents\n",
    "# show which features of classifier are most informative\n",
    "print(classifier.show_most_informative_features(30))"
   ]
  },
  {
   "cell_type": "code",
   "execution_count": 17,
   "id": "fc511ace",
   "metadata": {},
   "outputs": [
    {
     "name": "stdout",
     "output_type": "stream",
     "text": [
      "Each fold size: 600\n",
      "0 0.975\n",
      "1 0.9633333333333334\n",
      "2 0.9633333333333334\n",
      "3 0.9583333333333334\n",
      "4 0.9716666666666667\n",
      "mean accuracy 0.9663333333333334\n"
     ]
    }
   ],
   "source": [
    "goldlist_withoutStopwords,predictedlist_withoutStopwords=cross_validation_accuracy(num_folds, featuresets_withoutStopwords)"
   ]
  },
  {
   "cell_type": "code",
   "execution_count": 18,
   "id": "2882c559",
   "metadata": {},
   "outputs": [
    {
     "name": "stdout",
     "output_type": "stream",
     "text": [
      "['ham', 'ham', 'spam', 'spam', 'ham', 'spam', 'ham', 'spam', 'spam', 'spam', 'spam', 'spam', 'spam', 'spam', 'spam', 'spam', 'spam', 'spam', 'spam', 'ham', 'ham', 'spam', 'ham', 'spam', 'spam', 'ham', 'spam', 'spam', 'ham', 'spam']\n",
      "['ham', 'ham', 'spam', 'spam', 'ham', 'spam', 'ham', 'spam', 'spam', 'spam', 'spam', 'spam', 'spam', 'spam', 'spam', 'spam', 'spam', 'spam', 'spam', 'ham', 'ham', 'spam', 'ham', 'spam', 'spam', 'ham', 'spam', 'spam', 'ham', 'spam']\n"
     ]
    }
   ],
   "source": [
    "# look at the first 30 examples\n",
    "print(goldlist_withoutStopwords[:30])\n",
    "print(predictedlist_withoutStopwords[:30])"
   ]
  },
  {
   "cell_type": "code",
   "execution_count": 33,
   "id": "cb85e1ca",
   "metadata": {},
   "outputs": [
    {
     "name": "stdout",
     "output_type": "stream",
     "text": [
      "     |         s |\n",
      "     |    h    p |\n",
      "     |    a    a |\n",
      "     |    m    m |\n",
      "-----+-----------+\n",
      " ham |<1410>  90 |\n",
      "spam |   11<1489>|\n",
      "-----+-----------+\n",
      "(row = reference; col = test)\n",
      "\n"
     ]
    }
   ],
   "source": [
    "cm_withoutStopwords = nltk.ConfusionMatrix(goldlist_withoutStopwords, predictedlist_withoutStopwords)\n",
    "print(cm_withoutStopwords.pretty_format(sort_by_count=True, truncate=9))"
   ]
  },
  {
   "cell_type": "code",
   "execution_count": 20,
   "id": "d13c5be9",
   "metadata": {},
   "outputs": [
    {
     "name": "stdout",
     "output_type": "stream",
     "text": [
      "     |             s |\n",
      "     |      h      p |\n",
      "     |      a      a |\n",
      "     |      m      m |\n",
      "-----+---------------+\n",
      " ham | <47.0%>  3.0% |\n",
      "spam |   0.4% <49.6%>|\n",
      "-----+---------------+\n",
      "(row = reference; col = test)\n",
      "\n"
     ]
    }
   ],
   "source": [
    "# or show the results as percentages\n",
    "print(cm_withoutStopwords.pretty_format(sort_by_count=True, show_percents=True, truncate=9))"
   ]
  },
  {
   "cell_type": "code",
   "execution_count": 21,
   "id": "3ff62b43",
   "metadata": {},
   "outputs": [
    {
     "name": "stdout",
     "output_type": "stream",
     "text": [
      "\tPrecision\tRecall\t\tF1\n",
      "spam \t      0.993      0.943      0.967\n",
      "ham \t      0.940      0.992      0.965\n"
     ]
    }
   ],
   "source": [
    "# call the function with our data\n",
    "eval_measures(goldlist_withoutStopwords, predictedlist_withoutStopwords)"
   ]
  },
  {
   "cell_type": "code",
   "execution_count": 35,
   "id": "88528b2d",
   "metadata": {},
   "outputs": [
    {
     "name": "stdout",
     "output_type": "stream",
     "text": [
      "([[('Subject', 'JJ'), (':', ':'), ('accrued', 'VBN'), ('thru', 'JJ'), ('nov', 'NN'), ('.', '.')], [('19', 'CD'), ('daren', 'NNS'), (',', ','), ('please', 'VB'), ('take', 'VB'), ('a', 'DT'), ('look', 'NN'), ('at', 'IN'), ('the', 'DT'), ('attached', 'JJ'), ('spreadsheet', 'NN'), (',', ','), ('we', 'PRP'), ('have', 'VBP'), ('over', 'RB'), ('500', 'CD'), (',', ','), ('000', 'CD'), ('mmbtu', 'NN'), ('as', 'IN'), ('unaccounted', 'JJ'), ('for', 'IN'), ('.', '.')], [('.', '.')], [('.', '.')], [('o', 'NN'), (\"'\", \"''\"), ('neal', 'JJ'), ('3', 'CD'), ('-', ':'), ('9686', 'CD')]], 'ham')\n"
     ]
    }
   ],
   "source": [
    "#let's try for POS tag \n",
    "# Function to get POS tags for each sentence in a list\n",
    "def get_pos_tags(emaildocs):\n",
    "    # Tokenize the text block into sentences\n",
    "    sentences = nltk.sent_tokenize(' '.join(emaildocs))\n",
    "    \n",
    "    # Tokenize each sentence into words and apply POS tagging\n",
    "    tagged_sentences = [nltk.pos_tag(nltk.word_tokenize(sentence)) for sentence in sentences]\n",
    "    \n",
    "    return tagged_sentences\n",
    "\n",
    "# Applying the function to each list of sentences in the data structure\n",
    "tagged_emailsents = [(get_pos_tags(email[0]), email[1]) for email in emaildocs]\n",
    "\n",
    "# Now 'tagged_emailsents' contains the original sentences with their POS tags and spam/ham labels\n",
    "print(tagged_emailsents[0])"
   ]
  },
  {
   "cell_type": "code",
   "execution_count": 36,
   "id": "a18ca9e2",
   "metadata": {},
   "outputs": [],
   "source": [
    "from collections import Counter\n",
    "\n",
    "def pos_tag_features(tagged_sentences):\n",
    "    # Flatten the list of sentences to get a list of (word, tag) tuples\n",
    "    flat_list = [item for sublist in tagged_sentences for item in sublist]\n",
    "    # Count the frequencies of the POS tags and words\n",
    "    tag_counts = Counter(tag for word, tag in flat_list)\n",
    "    word_counts = Counter(word.lower() for word, tag in flat_list if word.isalpha())\n",
    "    # Combine the POS tag counts and word counts\n",
    "    features = dict(tag_counts)\n",
    "    features.update(word_counts)\n",
    "    # Return the feature dictionary\n",
    "    return features"
   ]
  },
  {
   "cell_type": "code",
   "execution_count": 37,
   "id": "63f08467",
   "metadata": {},
   "outputs": [
    {
     "name": "stdout",
     "output_type": "stream",
     "text": [
      "({'JJ': 5, ':': 2, 'VBN': 1, 'NN': 5, '.': 4, 'CD': 5, 'NNS': 1, ',': 3, 'VB': 2, 'DT': 2, 'IN': 3, 'PRP': 1, 'VBP': 1, 'RB': 1, \"''\": 1, 'subject': 1, 'accrued': 1, 'thru': 1, 'nov': 1, 'daren': 1, 'please': 1, 'take': 1, 'a': 1, 'look': 1, 'at': 1, 'the': 1, 'attached': 1, 'spreadsheet': 1, 'we': 1, 'have': 1, 'over': 1, 'mmbtu': 1, 'as': 1, 'unaccounted': 1, 'for': 1, 'o': 1, 'neal': 1}, 'ham')\n"
     ]
    }
   ],
   "source": [
    "posfeaturesets = [(pos_tag_features(email), label) for (email, label) in tagged_emailsents]\n",
    "print(posfeaturesets[0])"
   ]
  },
  {
   "cell_type": "code",
   "execution_count": 38,
   "id": "7ad3bae0",
   "metadata": {},
   "outputs": [
    {
     "name": "stdout",
     "output_type": "stream",
     "text": [
      "Classifier accuracy: 0.95\n",
      "Most Informative Features\n",
      "               forwarded = 1                 ham : spam   =    155.1 : 1.0\n",
      "                     nom = 1                 ham : spam   =     80.7 : 1.0\n",
      "                     bob = 1                 ham : spam   =     44.6 : 1.0\n",
      "                    corp = 2                 ham : spam   =     41.9 : 1.0\n",
      "              nomination = 1                 ham : spam   =     37.2 : 1.0\n"
     ]
    }
   ],
   "source": [
    "from sklearn.model_selection import train_test_split\n",
    "\n",
    "# Test Train Split\n",
    "pos_train_set, pos_test_set = train_test_split(posfeaturesets, test_size=0.2)\n",
    "\n",
    "# Train classifier\n",
    "posclassifier = nltk.NaiveBayesClassifier.train(pos_train_set)\n",
    "\n",
    "# Test the classifier\n",
    "posaccuracy = nltk.classify.accuracy(posclassifier, pos_test_set)\n",
    "print(f\"Classifier accuracy: {posaccuracy:.2f}\")\n",
    "\n",
    "# Most informative features\n",
    "posclassifier.show_most_informative_features(5)"
   ]
  },
  {
   "cell_type": "code",
   "execution_count": 39,
   "id": "348aa43b",
   "metadata": {},
   "outputs": [
    {
     "name": "stdout",
     "output_type": "stream",
     "text": [
      "Each fold size: 600\n",
      "0 0.9733333333333334\n",
      "1 0.9583333333333334\n",
      "2 0.955\n",
      "3 0.9483333333333334\n",
      "4 0.965\n",
      "mean accuracy 0.96\n"
     ]
    }
   ],
   "source": [
    "goldlist_postags,predictedlist_postags=cross_validation_accuracy(num_folds, posfeaturesets)"
   ]
  },
  {
   "cell_type": "code",
   "execution_count": 40,
   "id": "be68362c",
   "metadata": {},
   "outputs": [
    {
     "name": "stdout",
     "output_type": "stream",
     "text": [
      "['ham', 'ham', 'spam', 'spam', 'ham', 'spam', 'ham', 'spam', 'spam', 'spam', 'spam', 'spam', 'spam', 'spam', 'spam', 'spam', 'spam', 'spam', 'spam', 'ham', 'ham', 'spam', 'ham', 'spam', 'spam', 'ham', 'spam', 'spam', 'ham', 'spam']\n",
      "['ham', 'ham', 'spam', 'spam', 'ham', 'spam', 'ham', 'spam', 'spam', 'spam', 'spam', 'spam', 'spam', 'spam', 'spam', 'spam', 'spam', 'spam', 'spam', 'ham', 'ham', 'spam', 'ham', 'spam', 'spam', 'ham', 'spam', 'spam', 'ham', 'spam']\n"
     ]
    }
   ],
   "source": [
    "# look at the first 30 examples\n",
    "print(goldlist_postags[:30])\n",
    "print(predictedlist_postags[:30])"
   ]
  },
  {
   "cell_type": "code",
   "execution_count": 41,
   "id": "64aea286",
   "metadata": {},
   "outputs": [
    {
     "name": "stdout",
     "output_type": "stream",
     "text": [
      "     |         s |\n",
      "     |    h    p |\n",
      "     |    a    a |\n",
      "     |    m    m |\n",
      "-----+-----------+\n",
      " ham |<1384> 116 |\n",
      "spam |    4<1496>|\n",
      "-----+-----------+\n",
      "(row = reference; col = test)\n",
      "\n"
     ]
    }
   ],
   "source": [
    "cm_postags = nltk.ConfusionMatrix(goldlist_postags, predictedlist_postags)\n",
    "print(cm_postags.pretty_format(sort_by_count=True, truncate=9))"
   ]
  },
  {
   "cell_type": "code",
   "execution_count": 42,
   "id": "47b65212",
   "metadata": {},
   "outputs": [
    {
     "name": "stdout",
     "output_type": "stream",
     "text": [
      "     |             s |\n",
      "     |      h      p |\n",
      "     |      a      a |\n",
      "     |      m      m |\n",
      "-----+---------------+\n",
      " ham | <46.1%>  3.9% |\n",
      "spam |   0.1% <49.9%>|\n",
      "-----+---------------+\n",
      "(row = reference; col = test)\n",
      "\n"
     ]
    }
   ],
   "source": [
    "# or show the results as percentages\n",
    "print(cm_postags.pretty_format(sort_by_count=True, show_percents=True, truncate=9))"
   ]
  },
  {
   "cell_type": "code",
   "execution_count": 43,
   "id": "fb927100",
   "metadata": {},
   "outputs": [
    {
     "name": "stdout",
     "output_type": "stream",
     "text": [
      "\tPrecision\tRecall\t\tF1\n",
      "spam \t      0.997      0.928      0.961\n",
      "ham \t      0.923      0.997      0.958\n"
     ]
    }
   ],
   "source": [
    "# call the function with our data\n",
    "eval_measures(goldlist_postags, predictedlist_postags)"
   ]
  },
  {
   "cell_type": "code",
   "execution_count": 46,
   "id": "8ee083d2",
   "metadata": {},
   "outputs": [],
   "source": [
    "from sklearn.feature_extraction import DictVectorizer\n",
    "from sklearn.model_selection import GridSearchCV\n",
    "from sklearn.linear_model import LogisticRegression\n",
    "from sklearn.ensemble import RandomForestClassifier\n",
    "from sklearn.ensemble import GradientBoostingClassifier\n",
    "from sklearn.svm import SVC\n",
    "from sklearn.metrics import accuracy_score\n",
    "from sklearn.metrics import classification_report\n",
    "from sklearn.metrics import precision_score, recall_score"
   ]
  },
  {
   "cell_type": "code",
   "execution_count": 45,
   "id": "eaabe486",
   "metadata": {},
   "outputs": [],
   "source": [
    "#Get X and Y values:\n",
    "# Instantiate the DictVectorizer to get X values\n",
    "vectorizer = DictVectorizer(sparse=True)\n",
    "# Convert the list of dictionaries to a sparse matrix\n",
    "X = vectorizer.fit_transform([item[0] for item in featuresets_withoutStopwords])\n",
    "y = [item[1] for item in featuresets_withoutStopwords]\n",
    "#Test train split\n",
    "X_train, X_test, y_train, y_test = train_test_split(X, y, test_size=0.2)"
   ]
  },
  {
   "cell_type": "code",
   "execution_count": 48,
   "id": "b71e61b6",
   "metadata": {},
   "outputs": [
    {
     "name": "stdout",
     "output_type": "stream",
     "text": [
      "Test set accuracy:  0.975\n",
      "              precision    recall  f1-score   support\n",
      "\n",
      "         ham       1.00      0.95      0.97       303\n",
      "        spam       0.95      1.00      0.98       297\n",
      "\n",
      "    accuracy                           0.97       600\n",
      "   macro avg       0.98      0.98      0.97       600\n",
      "weighted avg       0.98      0.97      0.97       600\n",
      "\n"
     ]
    }
   ],
   "source": [
    "#Instantiate the model - start with LogisticRegression classifier as a base comparison model:\n",
    "logreg= LogisticRegression()\n",
    "#Fit the model\n",
    "logreg.fit(X_train, y_train)\n",
    "#Run Predictions\n",
    "y_pred = logreg.predict(X_test)\n",
    "\n",
    "# Calculate metrics\n",
    "print(\"Test set accuracy: \", accuracy_score(y_test, y_pred))\n",
    "print(classification_report(y_test, y_pred))"
   ]
  },
  {
   "cell_type": "code",
   "execution_count": 49,
   "id": "b072c5c5",
   "metadata": {},
   "outputs": [
    {
     "name": "stdout",
     "output_type": "stream",
     "text": [
      "Best: 0.971667 using {'max_iter': 100, 'tol': 0.01}\n",
      "Test set accuracy:  0.975\n",
      "              precision    recall  f1-score   support\n",
      "\n",
      "         ham       1.00      0.95      0.97       303\n",
      "        spam       0.95      1.00      0.98       297\n",
      "\n",
      "    accuracy                           0.97       600\n",
      "   macro avg       0.98      0.98      0.97       600\n",
      "weighted avg       0.98      0.97      0.97       600\n",
      "\n",
      "Best: 0.971667 using {'max_iter': 100, 'tol': 0.01}\n"
     ]
    }
   ],
   "source": [
    "#Grid Search for Model Tuning\n",
    "# Define the grid of values for tol and max_iter\n",
    "tol = [.01,.001,.0001]\n",
    "max_iter = [100, 150, 200]\n",
    "\n",
    "# Create a dictionary where tol and max_iter are keys and the lists of their values are corresponding values\n",
    "param_gridlog = dict(tol=tol, max_iter=max_iter)\n",
    "\n",
    "# Instantiate GridSearchCV with the required parameters\n",
    "grid_model = GridSearchCV(estimator=logreg, param_grid=param_gridlog, cv=5)\n",
    "\n",
    "# Fit grid_model to the data\n",
    "grid_model_result = grid_model.fit(X_train, y_train)\n",
    "\n",
    "# Summarize results\n",
    "best_score, best_params = grid_model_result.best_score_, grid_model_result.best_params_\n",
    "print(\"Best: %f using %s\" % (best_score, best_params))\n",
    "\n",
    "# Extract the best model and evaluate it on the test set\n",
    "best_log_model = grid_model_result.best_estimator_\n",
    "best_log_model_result = best_log_model.fit(X_train, y_train)\n",
    "y_best_log_pred = best_log_model_result.predict(X_test)\n",
    "print(\"Test set accuracy: \", accuracy_score(y_test, y_best_log_pred))\n",
    "print(classification_report(y_test, y_best_log_pred))\n",
    "best_score, best_params = grid_model_result.best_score_, grid_model_result.best_params_\n",
    "print(\"Best: %f using %s\" % (best_score, best_params))"
   ]
  },
  {
   "cell_type": "code",
   "execution_count": 50,
   "id": "841ebdd0",
   "metadata": {},
   "outputs": [
    {
     "name": "stdout",
     "output_type": "stream",
     "text": [
      "Test set accuracy: 0.9666666666666667\n",
      "              precision    recall  f1-score   support\n",
      "\n",
      "         ham       1.00      0.93      0.97       303\n",
      "        spam       0.94      1.00      0.97       297\n",
      "\n",
      "    accuracy                           0.97       600\n",
      "   macro avg       0.97      0.97      0.97       600\n",
      "weighted avg       0.97      0.97      0.97       600\n",
      "\n"
     ]
    }
   ],
   "source": [
    "#Now a Random Forest Classifier\n",
    "#Instantiate Model\n",
    "rf = RandomForestClassifier(n_estimators=100, criterion='gini', min_samples_split=.1)\n",
    "#Fit the model\n",
    "rfresult = rf.fit(X_train, y_train) \n",
    "#Run prediction and evaluate\n",
    "y_rfpred = rfresult.predict(X_test)\n",
    "print(\"Test set accuracy:\", accuracy_score(y_test, y_rfpred))\n",
    "print(classification_report(y_test, y_rfpred))"
   ]
  },
  {
   "cell_type": "code",
   "execution_count": 210,
   "id": "2770600b",
   "metadata": {},
   "outputs": [
    {
     "data": {
      "text/plain": [
       "' Uncomment this when ready to run\\n#Let\\'s try GridSearch Cross Validation\\nparams_rf = { \\'n_estimators\\': [50, 100, 200, 500],\\n                \\'max_features\\': [\\'sqrt\\', \\'log2\\'],\\n                \\'min_samples_split\\' : [.1,.12,.14,.16,.18,.2], \\n                \\'criterion\\' :[\\'gini\\', \\'entropy\\']}\\ngrid_rf = GridSearchCV(estimator=rf, param_grid=params_rf, cv= 5, refit=True)\\n# Fit grid_model to the data\\ngrid_rf_model_result = grid_rf.fit(X_train, y_train)\\n\\n# Summarize results\\nbest_rf_score, best_rf_params = grid_rf_model_result.best_score_, grid_rf_model_result.best_params_\\nprint(\"Best: %f using %s\" % (best_rf_score, best_rf_params))\\n\\n# Extract the best model and evaluate it on the test set\\nbest_rf_model = grid_rf_model_result.best_estimator_\\nbest_rf_model_result = best_rf_model.fit(X_train, y_train)\\ny_gscv_rf_pred = best_rf_model_result.predict(X_test)\\nprint(\"Test set accuracy: \", accuracy_score(y_test, y_gscv_rf_pred))\\nprint(confusion_matrix(y_test, y_gscv_rf_pred))\\nprint(\"Precision:\", precision_score(y_test, y_gscv_rf_pred, pos_label=\\'spam\\'))\\nprint(\"Recall:\",recall_score(y_test, y_gscv_rf_pred, pos_label=\\'spam\\'))'"
      ]
     },
     "execution_count": 210,
     "metadata": {},
     "output_type": "execute_result"
    }
   ],
   "source": [
    "#Let's try GridSearch Cross Validation\n",
    "params_rf = { 'n_estimators': [50, 100, 200, 500],\n",
    "                'max_features': ['sqrt', 'log2'],\n",
    "                'min_samples_split' : [.1,.12,.14,.16,.18,.2], \n",
    "                'criterion' :['gini', 'entropy']}\n",
    "grid_rf = GridSearchCV(estimator=rf, param_grid=params_rf, cv= 5, refit=True)\n",
    "# Fit grid_model to the data\n",
    "grid_rf_model_result = grid_rf.fit(X_train, y_train)\n",
    "\n",
    "# Summarize results\n",
    "best_rf_score, best_rf_params = grid_rf_model_result.best_score_, grid_rf_model_result.best_params_\n",
    "print(\"Best: %f using %s\" % (best_rf_score, best_rf_params))\n",
    "\n",
    "# Extract the best model and evaluate it on the test set\n",
    "best_rf_model = grid_rf_model_result.best_estimator_\n",
    "best_rf_model_result = best_rf_model.fit(X_train, y_train)\n",
    "y_gscv_rf_pred = best_rf_model_result.predict(X_test)\n",
    "print(\"Test set accuracy: \", accuracy_score(y_test, y_gscv_rf_pred))\n",
    "print(classification_report(y_test, y_gscv_rf_pred))"
   ]
  },
  {
   "cell_type": "code",
   "execution_count": 51,
   "id": "cb80b758",
   "metadata": {},
   "outputs": [
    {
     "name": "stdout",
     "output_type": "stream",
     "text": [
      "Test set accuracy: 0.9633333333333334\n",
      "              precision    recall  f1-score   support\n",
      "\n",
      "         ham       0.98      0.94      0.96       303\n",
      "        spam       0.94      0.98      0.96       297\n",
      "\n",
      "    accuracy                           0.96       600\n",
      "   macro avg       0.96      0.96      0.96       600\n",
      "weighted avg       0.96      0.96      0.96       600\n",
      "\n"
     ]
    }
   ],
   "source": [
    "#Now let's try Gradient Boosting\n",
    "# Instantiate the Model\n",
    "gb = GradientBoostingClassifier(n_estimators=100, learning_rate=1.0, max_depth=1, random_state=42)\n",
    "\n",
    "# Fit the model\n",
    "gb.fit(X_train, y_train)\n",
    "\n",
    "# Run prediction\n",
    "y_gb_pred = gb.predict(X_test)\n",
    "\n",
    "# Evaluate the model's performance\n",
    "print(\"Test set accuracy:\", accuracy_score(y_test, y_gb_pred))\n",
    "print(classification_report(y_test, y_gb_pred))"
   ]
  },
  {
   "cell_type": "code",
   "execution_count": 212,
   "id": "e7c3491e",
   "metadata": {},
   "outputs": [
    {
     "data": {
      "text/plain": [
       "' Uncomment this when ready to run\\n#And now with GridSearch\\n# Define the parameter grid to search\\nparam_gb = {\\n    \\'n_estimators\\': [100, 200, 300],\\n    \\'learning_rate\\': [0.01, 0.1, 0.2],\\n    \\'max_depth\\': [3, 4, 5],\\n    \\'subsample\\': [0.8, 0.9, 1.0]\\n}\\n\\n# Instantiate the GridSearchCV object\\ngsgb = GridSearchCV(estimator=gb, param_grid=param_gb, cv=5, n_jobs=-1, verbose=1, scoring=\\'accuracy\\')\\n\\n# Fit the GridSearchCV object to the training data\\ngsgb.fit(X_train, y_train)\\n\\n# Print the best parameters and the best score\\nprint(\"Best parameters found: \", gsgb.best_params_)\\nprint(\"Best cross-validated score: \", gsgb.best_score_)\\n\\n# Extract the best estimator and evaluate it on the test set\\nbest_gb = gsgb.best_estimator_\\ny_gsgb_pred = best_gb.predict(X_test)\\nprint(\"Test set accuracy: \", accuracy_score(y_test, y_gsgb_pred))\\nprint(confusion_matrix(y_test, y_gsgb_pred))\\nprint(\"Precision:\", precision_score(y_test, y_gsgb_pred, pos_label=\\'spam\\'))\\nprint(\"Recall:\",recall_score(y_test, y_gsgb_pred, pos_label=\\'spam\\'))'"
      ]
     },
     "execution_count": 212,
     "metadata": {},
     "output_type": "execute_result"
    }
   ],
   "source": [
    "#And now with GridSearch\n",
    "# Define the parameter grid to search\n",
    "param_gb = {\n",
    "    'n_estimators': [100, 200, 300],\n",
    "    'learning_rate': [0.01, 0.1, 0.2],\n",
    "    'max_depth': [3, 4, 5],\n",
    "    'subsample': [0.8, 0.9, 1.0]\n",
    "}\n",
    "\n",
    "# Instantiate the GridSearchCV object\n",
    "gsgb = GridSearchCV(estimator=gb, param_grid=param_gb, cv=5, n_jobs=-1, verbose=1, scoring='accuracy')\n",
    "\n",
    "# Fit the GridSearchCV object to the training data\n",
    "gsgb.fit(X_train, y_train)\n",
    "\n",
    "# Print the best parameters and the best score\n",
    "print(\"Best parameters found: \", gsgb.best_params_)\n",
    "print(\"Best cross-validated score: \", gsgb.best_score_)\n",
    "\n",
    "# Extract the best estimator and evaluate it on the test set\n",
    "best_gb = gsgb.best_estimator_\n",
    "y_gsgb_pred = best_gb.predict(X_test)\n",
    "print(\"Test set accuracy: \", accuracy_score(y_test, y_gsgb_pred))\n",
    "print(classification_report(y_test, y_gsgb_pred))"
   ]
  },
  {
   "cell_type": "code",
   "execution_count": 52,
   "id": "78a5335e",
   "metadata": {},
   "outputs": [
    {
     "name": "stdout",
     "output_type": "stream",
     "text": [
      "Test set accuracy: 0.9733333333333334\n",
      "              precision    recall  f1-score   support\n",
      "\n",
      "         ham       1.00      0.95      0.97       303\n",
      "        spam       0.95      1.00      0.97       297\n",
      "\n",
      "    accuracy                           0.97       600\n",
      "   macro avg       0.97      0.97      0.97       600\n",
      "weighted avg       0.97      0.97      0.97       600\n",
      "\n"
     ]
    }
   ],
   "source": [
    "#SVM\n",
    "#Instantiate\n",
    "svm = SVC()\n",
    "#Fit\n",
    "svm.fit(X_train, y_train)\n",
    "#Predict\n",
    "y_svm_predict = svm.predict(X_test)\n",
    "\n",
    "#Evaluate\n",
    "print(\"Test set accuracy:\", accuracy_score(y_test, y_svm_predict))\n",
    "print(classification_report(y_test, y_svm_predict))"
   ]
  },
  {
   "cell_type": "code",
   "execution_count": 214,
   "id": "ba2c45c8",
   "metadata": {},
   "outputs": [
    {
     "data": {
      "text/plain": [
       "'Uncomment this when ready to run\\n# Instantiate the SVM model\\nsvm = SVC()\\n\\n# Define the parameter grid for GridSearchCV\\nparam_grid = {\\n    \\'C\\': [0.1, 1, 10, 100],  # Regularization parameter\\n    \\'gamma\\': [\\'scale\\', \\'auto\\'],  # Kernel coefficient\\n    \\'kernel\\': [\\'linear\\', \\'rbf\\', \\'poly\\']  # Specifies the kernel type to be used in the algorithm\\n}\\n\\n# Create the GridSearchCV object\\ngssvm = GridSearchCV(estimator=svm, param_grid=param_grid, cv=5, scoring=\\'accuracy\\')\\n\\n# Fit the grid search to the data\\ngssvm.fit(X_train, y_train)\\n\\n# Get the best parameters and the best score\\nbest_parameters = gssvm.best_params_\\nbest_score = gssvm.best_score_\\n\\n# Print the best parameters and the best score\\nprint(\"Best parameters found: \", gssvm.best_params_)\\nprint(\"Best cross-validated score: \", gssvm.best_score_)\\n\\n# Extract the best estimator and evaluate it on the test set\\nbest_svm = gssvm.best_estimator_\\ny_gssvm_pred = gssvm.predict(X_test)\\nprint(\"Test set accuracy: \", accuracy_score(y_test, y_gssvm_pred))\\nprint(confusion_matrix(y_test, y_gssvm_pred))\\nprint(\"Precision:\", precision_score(y_test, y_gssvm_pred, pos_label=\\'spam\\'))\\nprint(\"Recall:\",recall_score(y_test, y_gssvm_pred, pos_label=\\'spam\\'))\\n'"
      ]
     },
     "execution_count": 214,
     "metadata": {},
     "output_type": "execute_result"
    }
   ],
   "source": [
    "# Instantiate the SVM model\n",
    "svm = SVC()\n",
    "\n",
    "# Define the parameter grid for GridSearchCV\n",
    "param_grid = {\n",
    "    'C': [0.1, 1, 10, 100],  # Regularization parameter\n",
    "    'gamma': ['scale', 'auto'],  # Kernel coefficient\n",
    "    'kernel': ['linear', 'rbf', 'poly']  # Specifies the kernel type to be used in the algorithm\n",
    "}\n",
    "\n",
    "# Create the GridSearchCV object\n",
    "gssvm = GridSearchCV(estimator=svm, param_grid=param_grid, cv=5, scoring='accuracy')\n",
    "\n",
    "# Fit the grid search to the data\n",
    "gssvm.fit(X_train, y_train)\n",
    "\n",
    "# Get the best parameters and the best score\n",
    "best_parameters = gssvm.best_params_\n",
    "best_score = gssvm.best_score_\n",
    "\n",
    "# Print the best parameters and the best score\n",
    "print(\"Best parameters found: \", gssvm.best_params_)\n",
    "print(\"Best cross-validated score: \", gssvm.best_score_)\n",
    "\n",
    "# Extract the best estimator and evaluate it on the test set\n",
    "best_svm = gssvm.best_estimator_\n",
    "y_gssvm_pred = gssvm.predict(X_test)\n",
    "print(\"Test set accuracy: \", accuracy_score(y_test, y_gssvm_pred))\n",
    "print(classification_report(y_test, y_gssvm_pred))"
   ]
  }
 ],
 "metadata": {
  "kernelspec": {
   "display_name": "Python 3 (ipykernel)",
   "language": "python",
   "name": "python3"
  },
  "language_info": {
   "codemirror_mode": {
    "name": "ipython",
    "version": 3
   },
   "file_extension": ".py",
   "mimetype": "text/x-python",
   "name": "python",
   "nbconvert_exporter": "python",
   "pygments_lexer": "ipython3",
   "version": "3.11.5"
  }
 },
 "nbformat": 4,
 "nbformat_minor": 5
}
